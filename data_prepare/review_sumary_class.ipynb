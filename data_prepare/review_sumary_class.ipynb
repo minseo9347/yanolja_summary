{
 "cells": [
  {
   "cell_type": "markdown",
   "id": "10e58b38",
   "metadata": {},
   "source": [
    "# GPT를 활용해 리뷰요약 best prompt 작성\n",
    "- 우리 서비스에서 사용할 GPT모델 : gpt3.5-turbo"
   ]
  },
  {
   "cell_type": "code",
   "execution_count": 2,
   "id": "5aa29b69",
   "metadata": {},
   "outputs": [
    {
     "name": "stdout",
     "output_type": "stream",
     "text": [
      "Hello! How can I assist you today?\n"
     ]
    }
   ],
   "source": [
    "import os\n",
    "from openai import OpenAI\n",
    "from dotenv import load_dotenv\n",
    "\n",
    "# 환경변수 로딩\n",
    "load_dotenv('../.env', override=True)\n",
    "\n",
    "# 메모리에 로딩된 값을 api_key 변수에 대입\n",
    "OPENAI_API_KEY = os.environ.get(\"OPENAI_API_KEY\")\n",
    "\n",
    "client = OpenAI(api_key=OPENAI_API_KEY)\n",
    "\n",
    "completion = client.chat.completions.create(\n",
    "    model='gpt-3.5-turbo-0125',\n",
    "    messages=[{'role': 'user', 'content': 'hi'}],\n",
    "    temperature=0.0\n",
    ")\n",
    "\n",
    "print(completion.choices[0].message.content)"
   ]
  },
  {
   "cell_type": "markdown",
   "id": "c14ad898",
   "metadata": {},
   "source": [
    "# 데이터 전처리\n",
    "- 리뷰 데이터 파일 로딩\n",
    "- 리뷰 요약 기준(평점: 1~5)\n",
    "    - good : 평점 5인것\n",
    "    - bad : 평점이 4이하인것\n",
    "- 각 리뷰마다 specital token\n",
    "    - '[REVIEW_START]' + ['review'] + '[REVIEW_END]'\n",
    "- 리뷰를 하나의 문자열로 통합\n",
    "    - reviews_good, reviews_bad"
   ]
  },
  {
   "cell_type": "code",
   "execution_count": null,
   "id": "3b7ce798",
   "metadata": {},
   "outputs": [
    {
     "data": {
      "text/plain": [
       "datetime.datetime(2024, 12, 6, 12, 34, 11, 330185)"
      ]
     },
     "execution_count": 17,
     "metadata": {},
     "output_type": "execute_result"
    }
   ],
   "source": [
    "import datetime\n",
    "current_date = datetime.datetime.now()\n",
    "# 현재를 기준으로 6개월전\n",
    "date_boundary = current_date - datetime.timedelta(days=6*30)"
   ]
  },
  {
   "cell_type": "markdown",
   "id": "6be9cbed",
   "metadata": {},
   "source": [
    "- 하나의 숙박시설에 대한 리뷰데이터 전처리 함수 정의"
   ]
  },
  {
   "cell_type": "code",
   "execution_count": 18,
   "id": "c03d7ee2",
   "metadata": {},
   "outputs": [],
   "source": [
    "import json\n",
    "from dateutil import parser\n",
    "\n",
    "# 정의부\n",
    "def preprocess_reviews(data_path):\n",
    "    # 1. 파일 데이터 로딩\n",
    "    with open(data_path, 'r') as f:\n",
    "        review_list = json.load(f)\n",
    "    # print(review_list)\n",
    "    # 2. good, bad 분리\n",
    "    # - 리뷰 요약 기준(평점: 1~5)\n",
    "    # - good : 평점 5인것\n",
    "    # - bad : 평점이 4이하인것\n",
    "    # - 각 리뷰마다 specital token\n",
    "    #     - '[REVIEW_START]' + ['review'] + '[REVIEW_END]'\n",
    "    # - 리뷰를 하나의 문자열로 통합\n",
    "    #     - reviews_good, reviews_bad\n",
    "    # good과 bad 리뷰를 저장하기 위해, 변수 초기화\n",
    "    # 3. 현재 이전 6개월 데이터 사용을 위해 날짜계산\n",
    "    current_date = datetime.datetime.now()\n",
    "    date_boundary = current_date - datetime.timedelta(days=6*30)\n",
    "    # print(date_boundary)\n",
    "    reviews_good, reviews_bad = [], []\n",
    "    for r in review_list:\n",
    "        review_date_str = r['date']\n",
    "        try:\n",
    "            # 리뷰 날짜 문자열을 datetime 객체로 변환\n",
    "            review_date = parser.parse(review_date_str)\n",
    "        except (ValueError, TypeError):\n",
    "            # 정상 날짜 데이터 아닌경우 현재 날짜 대입\n",
    "            review_date = current_date\n",
    "\n",
    "        # 날짜 바운더리 보다 작으면, pass\n",
    "        if review_date < date_boundary:\n",
    "            continue\n",
    "\n",
    "        if r['stars'] == 5:\n",
    "            # specital token 추가\n",
    "            reviews_good.append('[REVIEW_START]' + r['review'] + '[REVIEW_END]')\n",
    "        else:\n",
    "            # specital token 추가\n",
    "            reviews_bad.append('[REVIEW_START]' + r['review'] + '[REVIEW_END]')\n",
    "    # 3. good, bad 리뷰 각각 문자열로 만들기.\n",
    "    reviews_good_text = '\\n'.join(reviews_good)\n",
    "    reviews_bad_text = '\\n'.join(reviews_bad)\n",
    "    # print(reviews_good_text)\n",
    "    # print(reviews_bad_text)\n",
    "    return reviews_good_text, reviews_bad_text  "
   ]
  },
  {
   "cell_type": "code",
   "execution_count": 19,
   "id": "55374349",
   "metadata": {},
   "outputs": [],
   "source": [
    "# 호출부  \n",
    "data_path = \"res/1.gangneung_mare.json\"\n",
    "reviews_good, reviews_bad = preprocess_reviews(data_path)"
   ]
  },
  {
   "cell_type": "markdown",
   "id": "9047f271",
   "metadata": {},
   "source": [
    "# best 프롬프트를 만들기위해 응답결과 평가하기"
   ]
  },
  {
   "cell_type": "code",
   "execution_count": null,
   "id": "92d23764",
   "metadata": {},
   "outputs": [],
   "source": []
  }
 ],
 "metadata": {
  "kernelspec": {
   "display_name": "llm_env",
   "language": "python",
   "name": "python3"
  },
  "language_info": {
   "codemirror_mode": {
    "name": "ipython",
    "version": 3
   },
   "file_extension": ".py",
   "mimetype": "text/x-python",
   "name": "python",
   "nbconvert_exporter": "python",
   "pygments_lexer": "ipython3",
   "version": "3.12.7"
  }
 },
 "nbformat": 4,
 "nbformat_minor": 5
}
