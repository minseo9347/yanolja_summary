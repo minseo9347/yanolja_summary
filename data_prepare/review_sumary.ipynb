{
 "cells": [
  {
   "cell_type": "markdown",
   "metadata": {},
   "source": [
    "# GPT API를 활용한 좋은 리뷰요약"
   ]
  },
  {
   "cell_type": "code",
   "execution_count": 50,
   "metadata": {},
   "outputs": [
    {
     "name": "stdout",
     "output_type": "stream",
     "text": [
      "Hello! How can I assist you today?\n"
     ]
    }
   ],
   "source": [
    "import os\n",
    "from openai import OpenAI\n",
    "from dotenv import load_dotenv\n",
    "\n",
    "# 환경변수 로딩\n",
    "load_dotenv('.env', override=True)\n",
    "\n",
    "# 메모리에 로딩된 값을 api_key 변수에 대입\n",
    "OPENAI_API_KEY = os.environ.get(\"OPENAI_API_KEY\")\n",
    "\n",
    "client = OpenAI(api_key=OPENAI_API_KEY)\n",
    "\n",
    "completion = client.chat.completions.create(\n",
    "    model='gpt-3.5-turbo-0125',\n",
    "    messages=[{'role': 'user', 'content': 'hi'}],\n",
    "    temperature=0.0\n",
    ")\n",
    "\n",
    "print(completion.choices[0].message.content)"
   ]
  },
  {
   "cell_type": "markdown",
   "metadata": {},
   "source": [
    "## 데이터 전처리 함수 작성\n"
   ]
  },
  {
   "cell_type": "markdown",
   "metadata": {},
   "source": [
    "리뷰 JSON 파일 로드"
   ]
  },
  {
   "cell_type": "code",
   "execution_count": 51,
   "metadata": {},
   "outputs": [
    {
     "data": {
      "text/plain": [
       "[{'review': '바닷가 바로앞이라 너무좋아요.\\n객실도 깨끗하고, 샤워기 수압좋고 따뜻한물 잘 나오는것도 좋았어요~ 친구들이랑 왔다가 다들 만족하고 갑니다ㅎ',\n",
       "  'stars': 5,\n",
       "  'date': '2일 전'},\n",
       " {'review': '오션뷰라 진짜 좋았어요!! ㅎㅎㅎ\\n제 생일이라 남자친구하고 처음 오션뷰 예약해서 온거였는데 진짜 색달랐어요. 옆에 바다보면서 닭강정먹고.. 또 새벽에 바다 구경하고.. 진짜 잘 보내다 가요🥰',\n",
       "  'stars': 5,\n",
       "  'date': '4일 전'},\n",
       " {'review': '황금연휴에 방문했는데 오션뷰가 정말 예쁘더라고요👍\\n저는 2층에 머물렀는데, 창밖으로 보이는 바다가 너무 아름다웠어요\\n직원분들도 모두 친절하셔서 기분 좋게 머물다 갑니다👏\\n다음에도 꼭 다시 방문하고 싶어요!',\n",
       "  'stars': 5,\n",
       "  'date': '2025.05.06'}]"
      ]
     },
     "execution_count": 51,
     "metadata": {},
     "output_type": "execute_result"
    }
   ],
   "source": [
    "import json\n",
    "\n",
    "with open('./res/1.gangneung_mare.json', 'r') as f:\n",
    "    review_list = json.load(f)\n",
    "\n",
    "review_list[:3]"
   ]
  },
  {
   "cell_type": "markdown",
   "metadata": {},
   "source": [
    "좋은 평점 및 나쁜 평점 정의\n",
    "- 좋은 평점 = 별 5개 이상\n",
    "- 나쁜 평점 = 별 4개 이하"
   ]
  },
  {
   "cell_type": "code",
   "execution_count": 52,
   "metadata": {},
   "outputs": [
    {
     "data": {
      "text/plain": [
       "(352, 68)"
      ]
     },
     "execution_count": 52,
     "metadata": {},
     "output_type": "execute_result"
    }
   ],
   "source": [
    "good_cnt, bad_cnt = 0, 0\n",
    "for r in review_list:\n",
    "    if r['stars'] == 5:\n",
    "        good_cnt += 1\n",
    "    else:\n",
    "        bad_cnt += 1\n",
    "\n",
    "good_cnt, bad_cnt"
   ]
  },
  {
   "cell_type": "markdown",
   "metadata": {},
   "source": [
    "좋은 리뷰 및 나쁜 리뷰로 구분 후 저장"
   ]
  },
  {
   "cell_type": "code",
   "execution_count": 53,
   "metadata": {},
   "outputs": [
    {
     "data": {
      "text/plain": [
       "['[REVIEW_START]바닷가 바로앞이라 너무좋아요.\\n객실도 깨끗하고, 샤워기 수압좋고 따뜻한물 잘 나오는것도 좋았어요~ 친구들이랑 왔다가 다들 만족하고 갑니다ㅎ[REVIEW_END]',\n",
       " '[REVIEW_START]오션뷰라 진짜 좋았어요!! ㅎㅎㅎ\\n제 생일이라 남자친구하고 처음 오션뷰 예약해서 온거였는데 진짜 색달랐어요. 옆에 바다보면서 닭강정먹고.. 또 새벽에 바다 구경하고.. 진짜 잘 보내다 가요🥰[REVIEW_END]',\n",
       " '[REVIEW_START]황금연휴에 방문했는데 오션뷰가 정말 예쁘더라고요👍\\n저는 2층에 머물렀는데, 창밖으로 보이는 바다가 너무 아름다웠어요\\n직원분들도 모두 친절하셔서 기분 좋게 머물다 갑니다👏\\n다음에도 꼭 다시 방문하고 싶어요![REVIEW_END]']"
      ]
     },
     "execution_count": 53,
     "metadata": {},
     "output_type": "execute_result"
    }
   ],
   "source": [
    "reviews_good, reviews_bad = [], []\n",
    "for r in review_list:\n",
    "    if r['stars'] == 5:\n",
    "        # specital token 추가\n",
    "        reviews_good.append('[REVIEW_START]' + r['review'] + '[REVIEW_END]')\n",
    "    else:\n",
    "        # specital token 추가\n",
    "        reviews_bad.append('[REVIEW_START]' + r['review'] + '[REVIEW_END]')\n",
    "\n",
    "reviews_good[:3]"
   ]
  },
  {
   "cell_type": "markdown",
   "metadata": {},
   "source": [
    "하나의 문자열로 합치기"
   ]
  },
  {
   "cell_type": "code",
   "execution_count": 54,
   "metadata": {},
   "outputs": [
    {
     "data": {
      "text/plain": [
       "'[REVIEW_START]바닷가 바로앞이라 너무좋아요.\\n객실도 깨끗하고, 샤워기 수압좋고 따뜻한물 잘 나오는것도 좋았어요~ 친구들이랑 왔다가 다들 만족하고 갑니다ㅎ[REVIEW_E'"
      ]
     },
     "execution_count": 54,
     "metadata": {},
     "output_type": "execute_result"
    }
   ],
   "source": [
    "# good 문자, 하나의 문자열로 합치기\n",
    "reviews_good_text = '\\n'.join(reviews_good)\n",
    "reviews_good_text[:100]"
   ]
  },
  {
   "cell_type": "code",
   "execution_count": 55,
   "metadata": {},
   "outputs": [
    {
     "data": {
      "text/plain": [
       "'[REVIEW_START]우선 바람이 불어서 예정보다 30분 숙소 입실을 허락해줌\\n그런데 오션뷰 2층 205호는 앞에 가로수들때문에 오션전혀 기대하시면 안됩니다. 그리고 침구는 발'"
      ]
     },
     "execution_count": 55,
     "metadata": {},
     "output_type": "execute_result"
    }
   ],
   "source": [
    "# bad 문자, 하나의 문자열로 합치기\n",
    "reviews_bad_text = '\\n'.join(reviews_bad)\n",
    "reviews_bad_text[:100]"
   ]
  },
  {
   "cell_type": "markdown",
   "metadata": {},
   "source": [
    "리뷰데이터 전처리를 위한 함수 작성"
   ]
  },
  {
   "cell_type": "code",
   "execution_count": 56,
   "metadata": {},
   "outputs": [
    {
     "data": {
      "text/plain": [
       "'[REVIEW_START]바닷가 바로앞이라 너무좋아요.\\n객실도 깨끗하고, 샤워기 수압좋고 따뜻한물 잘 나오는것도 좋았어요~ 친구들이랑 왔다가 다들 만족하고 갑니다ㅎ[REVIEW_E'"
      ]
     },
     "execution_count": 56,
     "metadata": {},
     "output_type": "execute_result"
    }
   ],
   "source": [
    "import datetime\n",
    "from dateutil import parser\n",
    "\n",
    "def preprocess_reviews(path):\n",
    "    with open(path, 'r', encoding='utf-8') as f:\n",
    "        # list 형태로 json 파일 일기\n",
    "        review_list = json.load(f)\n",
    "\n",
    "    # good, bad 데이터 저장 변수 초기화\n",
    "    reviews_good, reviews_bad = [], []\n",
    "\n",
    "    # 현재 이전 6개월 데이터 사용을 위해 날짜계산\n",
    "    current_date = datetime.datetime.now()\n",
    "    date_boundary = current_date - datetime.timedelta(days=6*30)\n",
    "    # print(date_boundary)\n",
    "\n",
    "    # 리뷰데이터 \n",
    "    for r in review_list:\n",
    "        review_date_str = r['date']\n",
    "        try:\n",
    "            # 리뷰 날짜 문자열을 datetime 객체로 변환\n",
    "            review_date = parser.parse(review_date_str)\n",
    "        except (ValueError, TypeError):\n",
    "            # 정상 날짜 데이터 아닌경우 현재 날짜 대입\n",
    "            review_date = current_date\n",
    "\n",
    "        # 날짜 바운더리 보다 작으면, pass\n",
    "        if review_date < date_boundary:\n",
    "            continue\n",
    "\n",
    "        # 평점 5점 기준\n",
    "        if r['stars'] == 5:\n",
    "            reviews_good.append('[REVIEW_START]' + r['review'] + '[REVIEW_END]')\n",
    "        else:\n",
    "            reviews_bad.append('[REVIEW_START]' + r['review'] + '[REVIEW_END]')\n",
    "\n",
    "    # good, bad 하나의 문자열 리스트로 합치기\n",
    "    reviews_good_text = '\\n'.join(reviews_good)\n",
    "    reviews_bad_text = '\\n'.join(reviews_bad)\n",
    "\n",
    "    # good 리뷰와 bad 리뷰 반환\n",
    "    return reviews_good_text, reviews_bad_text\n",
    "\n",
    "# 리뷰 데이터 전처리 함수 호출\n",
    "data='./res/1.gangneung_mare.json'\n",
    "good, bad = preprocess_reviews(data)\n",
    "good[:100]"
   ]
  },
  {
   "cell_type": "code",
   "execution_count": 57,
   "metadata": {},
   "outputs": [
    {
     "data": {
      "text/plain": [
       "'[REVIEW_START]우선 바람이 불어서 예정보다 30분 숙소 입실을 허락해줌\\n그런데 오션뷰 2층 205호는 앞에 가로수들때문에 오션전혀 기대하시면 안됩니다. 그리고 침구는 발'"
      ]
     },
     "execution_count": 57,
     "metadata": {},
     "output_type": "execute_result"
    }
   ],
   "source": [
    "bad[:100]"
   ]
  },
  {
   "cell_type": "markdown",
   "metadata": {},
   "source": [
    "### 평가용 함수 작성"
   ]
  },
  {
   "cell_type": "markdown",
   "metadata": {},
   "source": [
    "평가 기준 설정\n",
    "- MT-Bench 논문 기반 Pairwise Comparision (=LLM 기반 평가)\n",
    "  - 비교하는 방식 vs. 점수 매기는 방식\n",
    "  - 점수라는게 애매 할 수 있음 (ex. 어느 정도의 요약 품질이 3점인가?)\n",
    "  - 경험상 점수보다는 비교가 상대적으로 더 정확한 편"
   ]
  },
  {
   "cell_type": "markdown",
   "metadata": {},
   "source": [
    "평가 스크립트 작성\n",
    "- MT-Bench 논문 Prompt에서 일부 단어만 수정 (ex. Korean summaries, accommodations)\n",
    "    - [[A]] – 어시스턴트 A가 더 나을 경우\n",
    "    - [[B]] – 어시스턴트 B가 더 나을 경우\n",
    "    - [[C]] – 두 응답이 동등한 품질일 경우"
   ]
  },
  {
   "cell_type": "code",
   "execution_count": 58,
   "metadata": {},
   "outputs": [],
   "source": [
    "# def pairwise_eval(리뷰원본, AI_a, AI_b):\n",
    "def pairwise_eval(reviews, answer_a, answer_b):\n",
    "    # 평가 프롬프트 \n",
    "    eval_prompt = f\"\"\"[System]\n",
    "Please act as an impartial judge and evaluate the quality of the Korean summaries provided by two\n",
    "AI assistants to the set of user reviews on accommodations displayed below. You should choose the assistant that\n",
    "follows the user's instructions and answers the user's question better. Your evaluation\n",
    "should consider factors such as the helpfulness, relevance, accuracy, depth, creativity,\n",
    "and level of detail of their responses. Begin your evaluation by comparing the two\n",
    "responses and provide a short explanation. Avoid any position biases and ensure that the\n",
    "order in which the responses were presented does not influence your decision. Do not allow\n",
    "the length of the responses to influence your evaluation. Do not favor certain names of\n",
    "the assistants. Be as objective as possible. After providing your explanation, output your\n",
    "final verdict by strictly following this format: \"[[A]]\" if assistant A is better, \"[[B]]\"\n",
    "if assistant B is better, and \"[[C]]\" for a tie.\n",
    "[User Reviews]\n",
    "{reviews}\n",
    "\n",
    "[The Start of Assistant A's Answer]\n",
    "{answer_a}\n",
    "[The End of Assistant A's Answer]\n",
    "\n",
    "[The Start of Assistant B's Answer]\n",
    "{answer_b}\n",
    "[The End of Assistant B's Answer]\"\"\"\n",
    "    \n",
    "    # OpenAI API를 사용하여 평가 요청\n",
    "    completion = client.chat.completions.create(\n",
    "        model='gpt-4o-2024-05-13',\n",
    "        messages=[{'role': 'user', 'content': eval_prompt}],\n",
    "        temperature=0.0\n",
    "    )\n",
    "\n",
    "    return completion.choices[0].message.content"
   ]
  },
  {
   "cell_type": "markdown",
   "metadata": {},
   "source": [
    "### Baseline 응답 개발"
   ]
  },
  {
   "cell_type": "code",
   "execution_count": 59,
   "metadata": {},
   "outputs": [],
   "source": [
    "PROMPT_BASELINE = f\"\"\"아래 숙소 리뷰에 대해 5문장 내로 요약해줘:\"\"\""
   ]
  },
  {
   "cell_type": "code",
   "execution_count": 60,
   "metadata": {},
   "outputs": [],
   "source": [
    "# 높은 평점만 리뷰 데이터만 받음음\n",
    "reviews, _ = preprocess_reviews(path='./res/1.gangneung_mare.json')"
   ]
  },
  {
   "cell_type": "markdown",
   "metadata": {},
   "source": [
    "### 리뷰 데이터 요약 함수 정의 및 실행"
   ]
  },
  {
   "cell_type": "code",
   "execution_count": 61,
   "metadata": {},
   "outputs": [
    {
     "name": "stdout",
     "output_type": "stream",
     "text": [
      "바닷가 바로앞에 위치한 숙소로, 객실이 깨끗하고 샤워기 수압이 좋아서 만족스러웠다. 오션뷰가 좋아서 친구들과 함께 와서 만족했고, 직원들도 친절했다. 위치가 좋고 주차도 편리하며, 숙소 내부가 깔끔하고 아늑했다. 또한, 오션뷰가 아름다워서 편안한 휴식을 취할 수 있었다.\n"
     ]
    }
   ],
   "source": [
    "def summarize(reviews, prompt, temperature=0.0, model='gpt-3.5-turbo-0125'):\n",
    "    prompt = prompt + '\\n\\n' + reviews\n",
    "\n",
    "    completion = client.chat.completions.create(\n",
    "        model=model,\n",
    "        messages=[{'role': 'user', 'content': prompt}],\n",
    "        temperature=temperature\n",
    "    )\n",
    "\n",
    "    return completion.choices[0].message.content\n",
    "\n",
    "print(summarize(reviews, PROMPT_BASELINE))"
   ]
  },
  {
   "cell_type": "markdown",
   "metadata": {},
   "source": [
    "## 응답결과 평가하기"
   ]
  },
  {
   "cell_type": "markdown",
   "metadata": {},
   "source": [
    "대조군 문장 정의하기"
   ]
  },
  {
   "cell_type": "code",
   "execution_count": 62,
   "metadata": {},
   "outputs": [
    {
     "data": {
      "text/plain": [
       "'이 숙소는 바다와 가까운 위치와 아름다운 오션뷰로 많은 이용객들에게 호평을 받고 있습니다. 객실은 매우 청결하고, 침구와 화장실 상태도 좋다는 평가가 많습니다. 직원들의 친절한 서비스와 편리한 주차 시설도 긍정적인 리뷰를 받았습니다. 다만, 일부 이용객들은 밤에 소음이 있거나 난방이 부족하다는 점을 지적했습니다. 전반적으로 재방문 의사가 높고, 가성비 좋은 숙소로 추천받고 있습니다.'"
      ]
     },
     "execution_count": 62,
     "metadata": {},
     "output_type": "execute_result"
    }
   ],
   "source": [
    "# 대조군 문장 가져오기(야놀자 AI good 요약 문장)\n",
    "# summary_real_20250530 = '숙소는 강릉 경포해변 바로 앞에 위치하며, 오션뷰와 경포호수 전망을 제공합니다. 객실과 화장실이 청결하게 관리되고 있으며, 편안한 침대와 고급 침구로 쾌적한 숙박 환경을 제공합니다. 주변에 식당과 편의시설이 가까워 접근성이 좋고, 주차 공간도 넓습니다. 직원들의 친절한 응대와 서비스도 긍정적인 평가를 받고 있으며, 대체로 소음 차단이 잘 이루어져 조용한 환경에서 휴식을 취할 수 있습니다. 전반적으로 방문자들은 숙소의 청결도와 편안함, 아늑한 분위기에 매우 만족하는 후기를 남기고 있습니다.'\n",
    "\n",
    "summary_4o_20250530 = summarize(reviews, PROMPT_BASELINE, temperature=0.0, model='gpt-4o-2024-05-13')\n",
    "summary_4o_20250530"
   ]
  },
  {
   "cell_type": "code",
   "execution_count": 63,
   "metadata": {},
   "outputs": [
    {
     "name": "stdout",
     "output_type": "stream",
     "text": [
      "Both Assistant A and Assistant B provided summaries that capture the essence of the user reviews, highlighting the positive aspects of the accommodations such as the proximity to the beach, cleanliness, friendly staff, and good views. However, there are some differences in their responses:\n",
      "\n",
      "1. **Helpfulness and Relevance**:\n",
      "   - **Assistant A**: Focuses on the positive aspects and mentions specific details like the shower pressure and the popularity among different types of guests (e.g., friends, couples).\n",
      "   - **Assistant B**: Provides a more balanced view by also mentioning some negative aspects like noise and heating issues, which can be helpful for potential guests.\n",
      "\n",
      "2. **Accuracy and Depth**:\n",
      "   - **Assistant A**: Accurate but slightly less detailed in terms of the variety of feedback.\n",
      "   - **Assistant B**: More comprehensive by including both positive and negative feedback, giving a fuller picture of the guest experience.\n",
      "\n",
      "3. **Creativity and Level of Detail**:\n",
      "   - **Assistant A**: Creative in highlighting specific features and types of guests who enjoyed the stay.\n",
      "   - **Assistant B**: Detailed in providing a balanced view, which can be more useful for making an informed decision.\n",
      "\n",
      "Considering these factors, Assistant B's response is more comprehensive and balanced, providing a fuller picture of the accommodation's strengths and weaknesses.\n",
      "\n",
      "[[B]]\n"
     ]
    }
   ],
   "source": [
    "# 비교하기\n",
    "# pairwise_eval(리뷰 데이터, AI 요약한 데이터_A, 대조군 AI 문장_B))\n",
    "print(pairwise_eval(reviews, summarize(reviews, PROMPT_BASELINE), summary_4o_20250530))"
   ]
  },
  {
   "cell_type": "markdown",
   "metadata": {},
   "source": [
    "## 대규모 평가 스크립트\n",
    "- 원래는 많은 수의 다양한 데이터에 대해 평가를 하지만, 동일한 Prompt에 대해 temperature 높여서 평가 진행"
   ]
  },
  {
   "cell_type": "code",
   "execution_count": 64,
   "metadata": {},
   "outputs": [
    {
     "data": {
      "text/plain": [
       "['경포해변을 품고 있는 강릉 숙소로, 깨끗하고 바다 뷰가 아름다웠으며, 직원들도 친절했다. 객실이 깔끔하고 편안하며, 위치도 좋아서 다시 방문하고 싶은 곳이었다.',\n",
       " '다양한 리뷰가 있지만, 숙소가 바닷가 바로 앞이어서 좋다는 점이 여러 리뷰에서 반복되고, 객실이 깨끗하고 친절한 서비스로 만족스러운 여행을 보내고자 하는 트렌드를 보입니다. 오션뷰와 뷰가 좋은 것도 많은 호평을 받았습니다.',\n",
       " '바닷가에 위치한 숙소로 친구들과 만족하며 이용했으며, 오션뷰와 쾌적한 객실이 좋았다. 현지 음식점과 근접한 위치가 편리하며, 룸 컨디션과 청결도가 우수했음을 강조했다. 위치, 깨끗함, 친절한 직원, 그리고 바다뷰가 좋았고 휴식을 취하기에 좋았다고 평가했다.',\n",
       " '숙소는 바다 바로 앞에 위치하고, 객실은 깨끗하며 수압 좋은 샤워기를 갖추고 있어서 친구들도 만족하며 완벽한 숙박을 했다는 리뷰를 요약하자면, \"바닷가 숙소, 깨끗하고 수압 좋은 샤워기 갖춤, 친구들도 만족\"으로 요약할 수 있겠다.',\n",
       " '바다 전망이 좋고 객실이 깨끗한 호텔. 매우 친절한 직원들이 좋은 서비스를 제공해주며, 바다가 보이는 객실을 추천하는 리뷰. 위치도 편리하고 만족스러움. 추천합니다.',\n",
       " '여러 숙박객들이 바다뷰와 객실의 청결함, 전망의 아름다움, 주변 편의시설에 만족하여 재방문 의사가 높음. 위치가 좋고 직원들도 친절하며 객실 관리가 철저했음을 언급함.',\n",
       " '바닷가 전망 최고, 깨끗하고 친절한 숙소. 오션뷰 예쁘고, 포근한 침대로 다음 방문 의사 100%! 하루밤 편안히 보내기 좋고, 위치와 청결이 만족스러웠다.',\n",
       " '바닷가에 위치한 숙소로 객실이 깨끗하고 수압이 좋으며, 오션뷰 객실에서는 바다와 호수를 감상할 수 있다. 직원들은 친절하고, 주차도 편리하며 뷰가 아름답다. 종합적으로 만족스러운 숙소라는 평이 많이 남아 있었다.',\n",
       " '해변이 가까워 바다 전망이 좋고 객실이 깨끗하며 친절한 직원이 있는 숙소.와 카운터 매너가 우수하고 해안뷰도 아름답다고 함.주차도 넓고 바다 소리 들으면서 잠드는 편한 곳이라고 한다.재방문 의사가 100%인 곳으로 도착하여 강원도를 좋아하는 여행자가 감격하며 다음 방문을 희망한다.요약: 바닷가 바로 앞이라 좋은 전망과 깨끗한 객실, 친절한 직원이 있는 숙소.',\n",
       " '바다가 가까워서 좋고, 객실이 깨끗하며 침구가 편안합니다. 직원도 친절하고 만족스러운 숙박이었습니다.']"
      ]
     },
     "execution_count": 64,
     "metadata": {},
     "output_type": "execute_result"
    }
   ],
   "source": [
    "# 같은 리뷰에 대해서 요약을 10번 수행(일반적으로는 50~100번 수행하면 좋음)\n",
    "eval_count = 10\n",
    "\n",
    "summaries_baseline = [summarize(reviews, PROMPT_BASELINE, temperature=1.0) for _ in range(eval_count)]\n",
    "summaries_baseline"
   ]
  },
  {
   "cell_type": "code",
   "execution_count": 65,
   "metadata": {},
   "outputs": [
    {
     "data": {
      "text/plain": [
       "['이 숙소는 바다와 가까운 위치와 아름다운 오션뷰로 많은 이용객들에게 호평을 받고 있습니다. 객실은 매우 청결하고, 침구와 화장실 상태도 좋다는 평가가 많습니다. 직원들의 친절한 서비스와 편리한 주차 시설도 긍정적인 리뷰를 받았습니다. 다만, 일부 이용객들은 밤에 소음이 있거나 난방이 부족하다는 점을 지적했습니다. 전반적으로 재방문 의사가 높고, 가성비 좋은 숙소로 추천받고 있습니다.',\n",
       " '이 숙소는 바다와 가까운 위치와 아름다운 오션뷰로 많은 이용객들에게 호평을 받고 있습니다. 객실은 매우 청결하고, 침구와 화장실 상태도 좋다는 평가가 많습니다. 직원들의 친절한 서비스와 편리한 주차 시설도 긍정적인 리뷰를 받았습니다. 다만, 일부 이용객들은 밤에 소음이 있거나 난방이 부족하다는 점을 지적했습니다. 전반적으로 재방문 의사가 높고, 가성비 좋은 숙소로 추천받고 있습니다.',\n",
       " '이 숙소는 바다와 가까운 위치와 아름다운 오션뷰로 많은 이용객들에게 호평을 받고 있습니다. 객실은 매우 청결하고, 침구와 화장실 상태도 좋다는 평가가 많습니다. 직원들의 친절한 서비스와 편리한 주차 시설도 긍정적인 리뷰를 받았습니다. 다만, 일부 이용객들은 밤에 소음이 있거나 난방이 부족하다는 점을 지적했습니다. 전반적으로 재방문 의사가 높고, 가성비 좋은 숙소로 추천받고 있습니다.',\n",
       " '이 숙소는 바다와 가까운 위치와 아름다운 오션뷰로 많은 이용객들에게 호평을 받고 있습니다. 객실은 매우 청결하고, 침구와 화장실 상태도 좋다는 평가가 많습니다. 직원들의 친절한 서비스와 편리한 주차 시설도 긍정적인 리뷰를 받았습니다. 다만, 일부 이용객들은 밤에 소음이 있거나 난방이 부족하다는 점을 지적했습니다. 전반적으로 재방문 의사가 높고, 가성비 좋은 숙소로 추천받고 있습니다.',\n",
       " '이 숙소는 바다와 가까운 위치와 아름다운 오션뷰로 많은 이용객들에게 호평을 받고 있습니다. 객실은 매우 청결하고, 침구와 화장실 상태도 좋다는 평가가 많습니다. 직원들의 친절한 서비스와 편리한 주차 시설도 긍정적인 리뷰를 받았습니다. 다만, 일부 이용객들은 밤에 소음이 있거나 난방이 부족하다는 점을 지적했습니다. 전반적으로 재방문 의사가 높고, 가성비 좋은 숙소로 추천받고 있습니다.',\n",
       " '이 숙소는 바다와 가까운 위치와 아름다운 오션뷰로 많은 이용객들에게 호평을 받고 있습니다. 객실은 매우 청결하고, 침구와 화장실 상태도 좋다는 평가가 많습니다. 직원들의 친절한 서비스와 편리한 주차 시설도 긍정적인 리뷰를 받았습니다. 다만, 일부 이용객들은 밤에 소음이 있거나 난방이 부족하다는 점을 지적했습니다. 전반적으로 재방문 의사가 높고, 가성비 좋은 숙소로 추천받고 있습니다.',\n",
       " '이 숙소는 바다와 가까운 위치와 아름다운 오션뷰로 많은 이용객들에게 호평을 받고 있습니다. 객실은 매우 청결하고, 침구와 화장실 상태도 좋다는 평가가 많습니다. 직원들의 친절한 서비스와 편리한 주차 시설도 긍정적인 리뷰를 받았습니다. 다만, 일부 이용객들은 밤에 소음이 있거나 난방이 부족하다는 점을 지적했습니다. 전반적으로 재방문 의사가 높고, 가성비 좋은 숙소로 추천받고 있습니다.',\n",
       " '이 숙소는 바다와 가까운 위치와 아름다운 오션뷰로 많은 이용객들에게 호평을 받고 있습니다. 객실은 매우 청결하고, 침구와 화장실 상태도 좋다는 평가가 많습니다. 직원들의 친절한 서비스와 편리한 주차 시설도 긍정적인 리뷰를 받았습니다. 다만, 일부 이용객들은 밤에 소음이 있거나 난방이 부족하다는 점을 지적했습니다. 전반적으로 재방문 의사가 높고, 가성비 좋은 숙소로 추천받고 있습니다.',\n",
       " '이 숙소는 바다와 가까운 위치와 아름다운 오션뷰로 많은 이용객들에게 호평을 받고 있습니다. 객실은 매우 청결하고, 침구와 화장실 상태도 좋다는 평가가 많습니다. 직원들의 친절한 서비스와 편리한 주차 시설도 긍정적인 리뷰를 받았습니다. 다만, 일부 이용객들은 밤에 소음이 있거나 난방이 부족하다는 점을 지적했습니다. 전반적으로 재방문 의사가 높고, 가성비 좋은 숙소로 추천받고 있습니다.',\n",
       " '이 숙소는 바다와 가까운 위치와 아름다운 오션뷰로 많은 이용객들에게 호평을 받고 있습니다. 객실은 매우 청결하고, 침구와 화장실 상태도 좋다는 평가가 많습니다. 직원들의 친절한 서비스와 편리한 주차 시설도 긍정적인 리뷰를 받았습니다. 다만, 일부 이용객들은 밤에 소음이 있거나 난방이 부족하다는 점을 지적했습니다. 전반적으로 재방문 의사가 높고, 가성비 좋은 숙소로 추천받고 있습니다.']"
      ]
     },
     "execution_count": 65,
     "metadata": {},
     "output_type": "execute_result"
    }
   ],
   "source": [
    "pairwise_words = [summary_4o_20250530 for _ in range(len(summaries_baseline))]\n",
    "pairwise_words"
   ]
  },
  {
   "cell_type": "markdown",
   "metadata": {},
   "source": [
    "- 대규모 데이터를 비교평가"
   ]
  },
  {
   "cell_type": "code",
   "execution_count": 66,
   "metadata": {},
   "outputs": [
    {
     "name": "stderr",
     "output_type": "stream",
     "text": [
      "100%|██████████| 10/10 [00:59<00:00,  5.97s/it]"
     ]
    },
    {
     "name": "stdout",
     "output_type": "stream",
     "text": [
      "Wins: 0, Losses: 10, Ties: 0\n"
     ]
    },
    {
     "name": "stderr",
     "output_type": "stream",
     "text": [
      "\n"
     ]
    }
   ],
   "source": [
    "\n",
    "from tqdm import tqdm\n",
    "\n",
    "def pairwise_eval_batch(reviews, answers_a, answers_b):\n",
    "    a_cnt, b_cnt, draw_cnt = 0, 0, 0\n",
    "    for i in tqdm(range(len(answers_a))):\n",
    "        # 최종 결과\n",
    "        verdict_text = pairwise_eval(reviews, answers_a[i], answers_b[i])\n",
    "\n",
    "        # A인경우 카운트\n",
    "        if '[[A]]' in verdict_text:\n",
    "            a_cnt += 1\n",
    "        # B인경우 카운트\n",
    "        elif '[[B]]' in verdict_text:\n",
    "            b_cnt += 1\n",
    "        # C인경우 카운트\n",
    "        elif '[[C]]' in verdict_text:\n",
    "            draw_cnt += 1\n",
    "        # 나머지\n",
    "        else:\n",
    "            print('Evaluation Error')\n",
    "    # a good, b bad, c 무승부 비슷함.\n",
    "    return a_cnt, b_cnt, draw_cnt\n",
    "\n",
    "# 요약한 것과 대조군 비교\n",
    "wins, losses, ties = pairwise_eval_batch(reviews, summaries_baseline, [summary_4o_20250530 for _ in range(len(summaries_baseline))])\n",
    "print(f'Wins: {wins}, Losses: {losses}, Ties: {ties}')"
   ]
  },
  {
   "cell_type": "markdown",
   "metadata": {},
   "source": [
    "### 응답결과 고도화 1 - 요약 조건들 명시 후 평가\n",
    "- role과 수행 목표 정의\n",
    "- 요약 결과에 대한 충족 조건\n",
    "    - 톤엔 매너와 예시\n",
    "    - 요약 결과에 갯수"
   ]
  },
  {
   "cell_type": "code",
   "execution_count": 67,
   "metadata": {},
   "outputs": [
    {
     "name": "stderr",
     "output_type": "stream",
     "text": [
      "100%|██████████| 10/10 [00:44<00:00,  4.49s/it]"
     ]
    },
    {
     "name": "stdout",
     "output_type": "stream",
     "text": [
      "Wins: 2, Losses: 8, Ties: 0\n"
     ]
    },
    {
     "name": "stderr",
     "output_type": "stream",
     "text": [
      "\n"
     ]
    }
   ],
   "source": [
    "prompt = f\"\"\"당신은 요약 전문가입니다. 사용자 숙소 리뷰들이 주어졌을 때 요약하는 것이 당신의 목표입니다.\n",
    "\n",
    "요약 결과는 다음 조건들을 충족해야 합니다:\n",
    "1. 모든 문장은 항상 존댓말로 끝나야 합니다.\n",
    "2. 숙소에 대해 소개하는 톤앤매너로 작성해주세요.\n",
    "  2-1. 좋은 예시\n",
    "    a) 전반적으로 좋은 숙소였고 방음도 괜찮았다는 평입니다.\n",
    "    b) 재방문 예정이라는 평들이 존재합니다.\n",
    "  2-2. 나쁜 예시\n",
    "    a) 좋은 숙소였고 방음도 괜찮았습니다.\n",
    "    b) 재방문 예정입니다.\n",
    "3. 요약 결과는 최소 2문장, 최대 5문장 사이로 작성해주세요.\n",
    "    \n",
    "아래 숙소 리뷰들에 대해 요약해주세요:\"\"\"\n",
    "\n",
    "eval_count = 10\n",
    "summaries = [summarize(reviews, prompt, temperature=1.0) for _ in range(eval_count)]\n",
    "wins, losses, ties = pairwise_eval_batch(reviews, summaries, [summary_4o_20250530 for _ in range(len(summaries))])\n",
    "print(f'Wins: {wins}, Losses: {losses}, Ties: {ties}')"
   ]
  },
  {
   "cell_type": "markdown",
   "metadata": {},
   "source": [
    "### 응답결과 고도화 2 - 입력 데이터의 품질 증가\n",
    "- 리뷰 길이가 짧은 것 필터링함, 고품질 리뷰만 남김"
   ]
  },
  {
   "cell_type": "code",
   "execution_count": 68,
   "metadata": {},
   "outputs": [],
   "source": [
    "import datetime\n",
    "from dateutil import parser\n",
    "\n",
    "def preprocess_reviews(path='./res/1.gangneung_mare.json'):\n",
    "    with open(path, 'r', encoding='utf-8') as f:\n",
    "        review_list = json.load(f)\n",
    "\n",
    "    reviews_good, reviews_bad = [], []\n",
    "\n",
    "    current_date = datetime.datetime.now()\n",
    "    date_boundary = current_date - datetime.timedelta(days=6*30)\n",
    "\n",
    "    filtered_cnt = 0\n",
    "    for r in review_list:\n",
    "        review_date_str = r['date']\n",
    "        try:\n",
    "            review_date = parser.parse(review_date_str)\n",
    "        except (ValueError, TypeError):\n",
    "            review_date = current_date\n",
    "\n",
    "        if review_date < date_boundary:\n",
    "            continue\n",
    "\n",
    "        # 고품질 리뷰만 남김\n",
    "        if len(r['review']) < 30:\n",
    "            filtered_cnt += 1\n",
    "            # print(r['review'])\n",
    "            continue\n",
    "\n",
    "        if r['stars'] == 5:\n",
    "            reviews_good.append('[REVIEW_START]' + r['review'] + '[REVIEW_END]')\n",
    "        else:\n",
    "            reviews_bad.append('[REVIEW_START]' + r['review'] + '[REVIEW_END]')\n",
    "\n",
    "    # good, bad 각각의 리스트의 요소 최대 길이가 50까지 되도록 자름 \n",
    "    # print(\"min(len(reviews_good), 50) : \", min(len(reviews_good), 50))\n",
    "    # print(\"len(reviews_good): \", len(reviews_good))\n",
    "    reviews_good = reviews_good[:min(len(reviews_good), 50)]\n",
    "    reviews_bad = reviews_bad[:min(len(reviews_bad), 50)]\n",
    "    # print(len(reviews_good))\n",
    "    # print(reviews_good)\n",
    "\n",
    "    reviews_good_text = '\\n'.join(reviews_good)\n",
    "    reviews_bad_text = '\\n'.join(reviews_bad)\n",
    "\n",
    "    return reviews_good_text, reviews_bad_text\n",
    "\n",
    "reviews, _ = preprocess_reviews()"
   ]
  },
  {
   "cell_type": "code",
   "execution_count": 69,
   "metadata": {},
   "outputs": [
    {
     "name": "stderr",
     "output_type": "stream",
     "text": [
      "100%|██████████| 10/10 [00:41<00:00,  4.18s/it]"
     ]
    },
    {
     "name": "stdout",
     "output_type": "stream",
     "text": [
      "Wins: 3, Losses: 7, Ties: 0\n"
     ]
    },
    {
     "name": "stderr",
     "output_type": "stream",
     "text": [
      "\n"
     ]
    }
   ],
   "source": [
    "# 평가 테스트\n",
    "eval_count = 10\n",
    "summaries = [summarize(reviews, prompt, temperature=1.0, model='gpt-3.5-turbo-0125') for _ in range(eval_count)]\n",
    "wins, losses, ties = pairwise_eval_batch(reviews, summaries, [summary_4o_20250530 for _ in range(len(summaries))])\n",
    "print(f'Wins: {wins}, Losses: {losses}, Ties: {ties}')"
   ]
  },
  {
   "cell_type": "markdown",
   "metadata": {},
   "source": [
    "### 응답결과 고도화 3 - One-Shot Prompting"
   ]
  },
  {
   "cell_type": "code",
   "execution_count": 71,
   "metadata": {},
   "outputs": [
    {
     "name": "stderr",
     "output_type": "stream",
     "text": [
      "100%|██████████| 10/10 [00:41<00:00,  4.18s/it]"
     ]
    },
    {
     "name": "stdout",
     "output_type": "stream",
     "text": [
      "Wins: 5, Losses: 5, Ties: 0\n"
     ]
    },
    {
     "name": "stderr",
     "output_type": "stream",
     "text": [
      "\n"
     ]
    }
   ],
   "source": [
    "reviews_1shot, _ = preprocess_reviews('./res/1.gangneung_mare.json')\n",
    "summary_1shot = summarize(reviews_1shot, prompt, temperature=0.0, model='gpt-3.5-turbo-0125')\n",
    "prompt_1shot = f\"\"\"당신은 요약 전문가입니다. 사용자 숙소 리뷰들이 주어졌을 때 요약하는 것이 당신의 목표입니다.\n",
    "\n",
    "요약 결과는 다음 조건들을 충족해야 합니다:\n",
    "1. 모든 문장은 항상 존댓말로 끝나야 합니다.\n",
    "2. 숙소에 대해 소개하는 톤앤매너로 작성해주세요.\n",
    "  2-1. 좋은 예시\n",
    "    a) 전반적으로 좋은 숙소였고 방음도 괜찮았다는 평입니다.\n",
    "    b) 재방문 예정이라는 평들이 존재합니다.\n",
    "  2-2. 나쁜 예시\n",
    "    a) 좋은 숙소였고 방음도 괜찮았습니다.\n",
    "    b) 재방문 예정입니다.\n",
    "3. 요약 결과는 최소 2문장, 최대 5문장 사이로 작성해주세요.\n",
    "\n",
    "다음은 리뷰들과 요약 예시입니다.\n",
    "예시 리뷰들:\n",
    "{reviews_1shot}\n",
    "예시 요약 결과:\n",
    "{summary_1shot}\n",
    "    \n",
    "아래 숙소 리뷰들에 대해 요약해주세요:\"\"\"\n",
    "\n",
    "summaries = [summarize(reviews, prompt, temperature=1.0, model='gpt-3.5-turbo-0125') for _ in range(eval_count)]\n",
    "wins, losses, ties = pairwise_eval_batch(reviews, summaries, [summary_4o_20250530 for _ in range(len(summaries))])\n",
    "print(f'Wins: {wins}, Losses: {losses}, Ties: {ties}')"
   ]
  },
  {
   "cell_type": "code",
   "execution_count": null,
   "metadata": {},
   "outputs": [
    {
     "data": {
      "text/plain": [
       "['강릉 여행길에 들렀는데 아주 예약을 잘한 숙소입니다. 호텔이 주인의 품격이 느껴지며 조용하고 좋습니다. 로비도 고급지고 객실도 깔끔해서 너무 만족스러운 1박이었습니다. 침구가 너무 좋아서 편하게 잠을 잘 수 있었고, 다음에도 여행을 가면 여기에 다시 묵을 것입니다. 부모님도 예약해 드렸는데 매우 만족하셨고, 객실은 깨끗하고 아늑하며 침구류 냄새가 나지 않아 좋았습니다. 위치가 좋아 주변 인프라가 잘 구축되어 있지만, 외부 음식 관련 안내가 필요할 것 같습니다. 프론트 데스크 직원도 친절하고 방도 깨끗하여 편안한 시간을 보낼 수 있었고, 조식 샌드위치가 맛있어서 좋았습니다. 전체적으로 따뜻하고 깨끗하여 다음에도 이용할 것 같습니다.',\n",
       " '강릉 여행길에 들르게 되어 예약을 잘한 호텔이었습니다. 주인의 품격을 느낄 수 있었고 조용하고 좋은 분위기였습니다. 로비와 객실이 모두 고급스럽고 깔끔하며 침구도 편안하여 만족스러운 1박을 보냈습니다. 친절한 안내와 정리정돈으로 편안한 휴식을 취할 수 있었고, 부모님도 너무 만족하셨습니다. 전체적으로 깨끗하고 아늑한 숙소로 외부 음식 관련 안내가 더 필요하다는 의견이 있지만, 프론트와 직원분들의 친절한 서비스를 감상할 수 있었습니다.',\n",
       " '강릉 여행길에 들르게 되어 아주 잘 예약한 호텔이었습니다. 주인의 품격이 느껴지며 조용하고 좋았어요. 로비도 고급스럽고 객실도 깔끔해 만족스러운 1박을 했습니다. 침구가 훌륭해서 편안한 휴식을 취할 수 있었고, 다음 여행 때 또 방문할 예정입니다. 친절한 안내와 청결한 정리 정돈으로 편안하게 쉴 수 있었고, 부모님도 너무 만족하셨어요. 또한, 객실이 깨끗하고 아늑하여, 침구류의 냄새도 거의 느껴지지 않아 좋은 경험을 했습니다. 객실 청결이 훌륭하며 주변 인프라가 우수하여 편안한 숙박을 즐겼지만, 외부 음식 관련 사전 안내가 필요한 부분이 있습니다. 호텔의 시설이 깔끔하고 택지지구에 위치해 주변 환경이 좋았으며, 프론트 데스크 직원도 친절하고 방도 깨끗해 편안한 휴식을 취할 수 있었습니다. 부모님도 편안히 쉬었다고 하셨지만, 윗층 소음이 조금 들려 방음이 아쉬운 부분이 있어 재방문 시 고려해야 할 것 같습니다. 전체적으로 깨끗하고 편안한 숙소이며, 직원들의 친절함과 맛있는 조식으로 편안한 시간을 보낼 수 있었어요. 위치가 좋고 깔끔한 호텔로 하루를 보내기에 좋은 곳이며, 주차는 주차타워를 이용해야 하는 부분이 단점이지만 출차가 편리해 다양한 강릉 여행지를 즐길 수 있었어요. 따듯하고 깨끗한 숙소로 다음에도 이용할 것 같아 감사합니다.',\n",
       " '강릉 여행길에 들르게 된 호텔은 아주 훌륭한 예약이었습니다. 호텔은 주인의 품격을 느낄 수 있는 조용하고 좋은 숙소였습니다. 로비도 고급스럽고 객실은 깔끔하여 매우 만족스러운 1박을 했습니다. 부모님도 만족하셨고, 침구류의 향이 좋았습니다. 주변 인프라가 좋은 택지지구에 위치한 시설은 깔끔하고 편안하며, 직원분들의 친절한 안내가 기억에 남았습니다. 모든 것이 만족스러웠지만 패스트푸드제외 배달음식을 시킬 수 없어 아쉬운 점도 있었습니다. 함부러 예약하지 않고 사전에 외부 음식 관련 안내가 필요할 것 같습니다. 호텔에서는 조식 샌드위치가 맛있다고 하며, 직원분들의 친절함과 숙소의 깨끗함에 감탄했습니다. 숙소는 깔끔하고 위치도 편리하여 하루를 즐겁게 보낼 수 있는 좋은 곳입니다. 숙소는 깔끔하고 주차는 주차타워를 이용해야한다는 단점이 있지만, 출차가 편리하고 추천할 만한 좋은 곳입니다.명 외에도 이용할 것 같아서 감사합니다.',\n",
       " '강릉 여행길에 들렀을 때 아주 예약을 잘한 숙소였습니다. 호텔에서는 주인의 품격이 느껴지고 조용하고 좋은 분위기를 느낄 수 있습니다. 로비도 고급스럽고 객실도 깔끔하여 만족스러운 1박을 보낼 수 있었고, 침구가 훌륭해서 편안한 휴식을 취할 수 있었습니다. 또한, 친절한 안내와 청결한 정리로 편안하게 휴식을 취할 수 있었습니다. 부모님도 만족해하신 숙소라고 평가가 좋습니다. 프론트 데스크 직원들도 친절하고, 객실 또한 깨끗하고 편안한 분위기를 제공해줍니다. 총평하자면 깔끔하고 편한 숙소로, 전반적으로 만족스러운 경험을 살펴볼 수 있습니다.',\n",
       " '강릉 여행길에 들럿는데 아주 예약을 잘했어요. 호텔이 주인의 품격이 느껴지더라구요. 조용하고 좋습니다. 로비도 고급지고 객실도 깔끔해서 너무 만족스러운 1박이었습니다. 침구가 너무 좋아서 잘 잘수있었어요. 다음에 여행가면 여기에 다시 묵을겁니다. 친절한 안내와 정리정돈도 잘 되어 있어 편안하게 잘수있었어요. 부모님 여행 숙소 예약해드렸는데 너무 만족하셨어요! 만족하셨다는 굿 평가도 받았습니다.',\n",
       " '강릉 여행길에 들르면서 아주 좋은 숙소를 예약한 것 같아요. 호텔은 주인의 품격이 느껴지고, 조용하고 좋아요. 로비도 고급스럽고 객실도 깔끔해서 너무 만족스러운 1박을 했어요. 침구가 훌륭해서 편안하게 잘 수 있었고, 다음 여행에도 여기에 다시 묵을 생각입니다. 친절한 안내와 정리정돈으로 편안하게 잘 수 있었어요. 매우 만족하신 부모님도 계셨는데, 직원분들의 친절함을 칭찬하셨어요. 시설이 깔끔하고 편안할 뿐만 아니라 주변 인프라도 좋아요. 그런데 외부 음식 관련 안내가 아쉬운 점인 것 같아요. 프론트 분들의 친절함과 깨끗한 객실로 정말 편안하고 좋았어요. 처음 이용했는데도 너무 편하고 만족스러웠어요. 친절한 직원분들과 조식 샌드위치도 맛있어요! 이 숙소를 추천합니다. 방음이 조금 아쉽다는 소리가 있지만, 편하게 잘 보낼 수 있는 숙소입니다. 주차는 주차타워를 사용해야 해서 단점이 있지만, 강력 추천합니다. 깨끔하고 편안해서 다음에도 이용할 것 같아요. 감사합니다.',\n",
       " '강릉 여행길에 들르는데 아주 예약을 잘 했어요. 호텔이 주인의 품격이 느껴지고 조용하고 좋습니다. 로비도 고급지고 객실도 깔끔해서 너무 만족스러운 1박을 했습니다. 침구가 너무 좋아서 잘 잘 수 있었고, 다음에 여행을 가면 다시 묵을 계획입니다. 친절한 안내와 정리정돈으로 편안히 잘 수 있었고, 부모님도 너무 만족하셨다고 합니다. 모두 친절하시고 깨끗하고 아늑한 곳으로 패스트푸드를 제외한 배달음식을 시킬 수 없는 것이 아쉬운 점이 있지만, 직원분들은 너무 친절하시고 좋아요.',\n",
       " '강릉 여행길에 들르면서 예약을 잘 했던 호텔입니다. 주인의 품격이 느껴지고 조용하고 좋은 숙소였습니다. 로비도 고급스럽고 객실도 깔끔해서 만족스러운 1박을 했습니다. 침구가 훌륭해서 편히 잠을 잘 수 있었고 재방문을 하고 싶은 곳입니다. 친절한 안내와 청결한 정리정돈으로 편안하게 휴식을 취할 수 있었던 좋은 숙소였습니다. 부모님들도 만족하셨고 깨끗하고 아늑하며 친절한 직원들이 여행에 좋은 기억을 남겨주었습니다. 최근 방문한 시설이 깨끔하고 편안한 택지지구에 위치해 인프라가 좋지만 외부 음식 관련 사전 안내가 필요할 것으로 보입니다.체크인부터 체크아웃까지 친절하고 깔끔한 서비스로 편안한 시간을 보낼 수 있었던 곳입니다.화장실  무나 편하게  잠을 잘 수 있는 주위 자리도 고급스럽고까스힝 입이 맞는 편을좌고 야장! 따듯하고 깨끗한 숙소로 다음에도 이용할 의향이 있는 곳이었습니다.',\n",
       " '강릉 여행길에 들름해서 아주 예약을 잘 했어요. 호텔이 주인의 품격이 느껴지며 조용하고 좋습니다. 로비도 고급스럽고 객실도 깔끔하여 너무 만족스러운 1박이었습니다. 침구가 너무 좋아서 잘 잘 수 있었고, 부모님 여행 숙소 예약해드렸는데 너무 만족하셨어요! 또한, 직원분들이 친절하고 깨끗한 객실과 편한 시설이 좋았습니다.']"
      ]
     },
     "execution_count": 29,
     "metadata": {},
     "output_type": "execute_result"
    }
   ],
   "source": [
    "summaries"
   ]
  },
  {
   "cell_type": "markdown",
   "metadata": {},
   "source": [
    "### 응답결과 고도화 3 - one-Shot Prompting"
   ]
  },
  {
   "cell_type": "code",
   "execution_count": null,
   "metadata": {},
   "outputs": [
    {
     "name": "stderr",
     "output_type": "stream",
     "text": [
      "100%|██████████| 10/10 [00:46<00:00,  4.61s/it]"
     ]
    },
    {
     "name": "stdout",
     "output_type": "stream",
     "text": [
      "Wins: 10, Losses: 0, Ties: 0\n"
     ]
    },
    {
     "name": "stderr",
     "output_type": "stream",
     "text": [
      "\n"
     ]
    }
   ],
   "source": [
    "prompt_1shot = f\"\"\"당신은 요약 전문가입니다. 사용자 숙소 리뷰들이 주어졌을 때 요약하는 것이 당신의 목표입니다. 다음은 리뷰들과 요약 예시입니다.\n",
    "예시 리뷰들:\n",
    "{reviews_1shot}\n",
    "예시 요약 결과:\n",
    "{summary_1shot}\n",
    "    \n",
    "아래 숙소 리뷰들에 대해 요약해주세요:\"\"\"\n",
    "\n",
    "summaries = [summarize(reviews, prompt_1shot, temperature=1.0, model='gpt-3.5-turbo-0125') for _ in range(eval_count)]\n",
    "wins, losses, ties = pairwise_eval_batch(reviews, summaries, [summary_4o_20250530 for _ in range(len(summaries))])\n",
    "print(f'Wins: {wins}, Losses: {losses}, Ties: {ties}')"
   ]
  },
  {
   "cell_type": "markdown",
   "metadata": {},
   "source": [
    "### prompt_1shot을 피클파일로 저장하기"
   ]
  },
  {
   "cell_type": "code",
   "execution_count": 72,
   "metadata": {},
   "outputs": [],
   "source": [
    "# prompt_1shot을 피클파일로 저장하기\n",
    "file_name = \"./res/prompt_1shotv1.pickle\"\n",
    "# 파일로 저장\n",
    "import pickle\n",
    "with open(file_name, 'wb') as f:\n",
    "    pickle.dump(prompt_1shot, f)"
   ]
  },
  {
   "cell_type": "code",
   "execution_count": 73,
   "metadata": {},
   "outputs": [
    {
     "name": "stdout",
     "output_type": "stream",
     "text": [
      "['전반적으로 좋은 편인데, 숙소 위치가 정말 좋습니다. 바닷가 바로 앞이라 산책하기도 좋고, 근처에 맛집이 많아서 식사하기도 편리했습니다. 객실 청결 상태도 매우 좋았고, 직원분들도 친절하여 편안한 휴식을 취할 수 있었습니다. 다음에도 꼭 다시 방문하고 싶은 숙소입니다. 별로 단점은 없으나 티비 사용 시 넷플릭스가 끊기는 문제 있음. 결과적으로, 다시 방문 의사 100% 있습니다.', '객실이 깨끗하고 샤워기 수압이 좋고 물도 따뜻하게 잘 나오는 좋은 숙소입니다. 다들 만족하고 갑니다.\\n오션뷰가 정말 좋았고 바다를 바라보며 편안히 먹었고, 새벽에 바다 구경까지 했습니다. 잘 보내다 왔어요.\\n황금연휴에 방문한 숙소는 오션뷰가 아름다웠고, 직원분들의 친절함도 기분 좋게 했습니다. 다음에도 꼭 다시 방문하고 싶네요.\\n방음도 좋고 깨끗하며 주차하기도 편리한 좋은 숙소였습니다. 위치가 좋아서 이동이 편리합니다. 객실과 화장실도 매우 청결했습니다.결혼기념일로 머물렀는데 너무 편안하게 쉬고, 침대가 푹신하고 전망도 좋았습니다.친절한 24시간 데스크와 깔끔한 오션뷰, 깨끗한 객실 내부를 갖추고 있습니다. 다음에도 이용하고 싶은 숙소입니다.', '전반적으로 좋은 숙소로, 바닷가에 위치해 있어 친구들과 함께 방문했다가 만족하고 갑니다. 샤워기 수압이 좋고, 깨끗한 객실을 제공해 편안하게 묵었습니다. 오션뷰를 즐기며 좋은 추억을 만들었고, 침구와 객실 청결도에 대해서도 만족했습니다. 다음에도 꼭 다시 방문할 의사가 있습니다. 객실은 깔끔하고 편안했으며, 오션뷰가 예쁘게 보였습니다. 직원분들도 친절하고, 내부 시설들도 만족스러웠습니다. TV 문제를 제외하고 전반적으로 좋은 경험했습니다. 위치가 좋아 바다와 호수를 즐길 수 있었으며, 깨끗한 객실과 친절한 24시간 데스크를 갖추고 있습니다. 다음에도 이용하고 싶은 숙소입니다.환경이 좋고 청결한 상태를 유지하며 좋은 알바도 좋고, 테라스를 즐길 수 있는 곳입니다. 부족한 점이라면 담배 냄새가 올라오는 것이었지만 전체적으로 만족하며 좋았습니다.주변에 먹을 곳이 많고 주차가 편리하여 편안하게 머물기 좋았습니다. 추억을 함께 만들고 편안히 지내기 좋은 곳입니다. 위치와 청결도에 만족하며, 편리한 주변 시설들과 깨끗한 객실이 멋졌습니다. 전체적으로 좋은 경험을 한 숙박이었습니다. 숙소가 너무 깔끔하고 좋았으며, 다음에 또 오게 된다면 이용할 것으로 예상합니다. 전체적으로 관리가 잘 되어 있어서 깨끗한 숙소로, 바다 전망도 좋았습니다. 전반적으로 좋은 경험을 만들어주었고, 다시 방문하고 싶은 곳이었습니다.  객실에는 모든 필요한 것이 갖춰져 있어 편안한 휴식을 취할 수 있었고, 오션뷰를 통해 멋진 경치를 감상할 수 있었습니다. 호텔의 청결도와 서비스에 만족하여 매년 방문할 예정입니다. 경포대와 경포호수를 한눈에 볼 수 있는 좋은 위치에 있으며, 깔끔한 객실에 침대와 화장실이 만족스러웠습니다. 친절한 직원분들과 훌륭한 시설로 즐거운 여행을 경험하고 왔습니다.해변가에 위치한 깨끗한 숙소로 경포대와 바다 전망을 즐길 수 있었고, 다음에 또 오고 싶은 곳입니다.깨끗하고 편안한 시설을 갖추고 있어서 기분 좋은 여행을 즐길 수 있었습니다. 다음에 또 방문할 의사가 있는 좋은 숙소였습니다. 위치와 객실의 청결도에 만족하며, 뷰도 좋았던 숙소에서 잘 쉬고 왔습니다.북적이지 않는 방음 환경과 바다 뷰, 청결한 객실로 편안한 휴식을 취할 수 있었습니다. 직원들의 친절함과 시설에 만족하여 재방문할 의사가 있습니다. 뷰가 아주 좋고 청결한 객실을 제공하며, 관리 상태가 아주 좋았습니다. 위치도 매우 편리하고 잘 관리되는 호텔 같았으며, 대만족한 숙박을 경험했습니다. 숙소가 너무 깔끔하고 친절한 사장님에 의해 안락한 숙박을 즐길 수 있었습니다. 추천해주시는 식당이 매우 맛있었고, 편안하게 지낼 수 있었던 좋은 숙소였습니다.환경과 침구류에 대한 만족도가 높고, 엄지척하여 좋은 전망과 청결한 객실이 매력적이었습니다. 잘 관리된 숙소로, 다음 방문 때도 이용하고 싶은 곳입니다. 위치와 뷰, 객실 청결 등 모두 훌륭한 숙소였습니다. 주변 맛집 소개에 대한 친절한 응대도 감사했습니다. 쾌적한 환경에서 편안함을 느끼고, 다음 방문 때도 선택하고 싶은 숙소였습니다.숙소가 청결하고 필요한 시설이 잘 갖추어진 곳으로 휴식을 편안하게 취할 수 있었습니다. 특히 오션뷰 방에서 바다 소리를 들으며 잠들 수 있었던 점이 좋았습니다. 좋은 서비스와 쾌적한 환경을 제공해준 호텔로, 다음 방문에도 기대가 큽니다. 가족들과 편안하게 머물기 좋았고, 직원분의 친절한 응대에 감사했습니다.추억을 만들기 좋은 숙박 환경과 친절한 직원들이 인상적이었고, 나만의 휴식처로 선택하게 되었습니다. 즐거운 여행을 위한 좋은 숙소였습니다. 위치와 서비스, 청결도 등 모두 만족스러운 곳이었어요. 뷰가 아주 좋고 내부 시설도 청결하며 개인적으로 필요한 것도 잘 갖춰진 곳이었습니다. 어메니티 뿐만 아니라 객실간 소음에도 만족할만한 호텔로, 다시 방문하고 싶은 곳입니다. 전체적으로 좋은 서비스와 편의 시설을 보유하고 있어서 훌륭한 휴식을 제공받았습니다. 뷰와 객실의 청결에 만족하며, 침대와 화장실도 편안했습니다. 직원들의 친절함과 객실의 퀄리티에 멋진 시간을 보냈다고 생각합니다.훌륭한 전망과 객실청결도를 겸비하고 있어서 편안한 휴식을 취할 수 있는 곳이었습니다. 직원분들의 친절함과 청결한 환경에 만족했던 호텔로, 재방문 의사가 있습니다. 계속해서 발전하는 호텔로 만족스런 휴식을 제공받았으며, 다음 방문 때 기대하고 있습니다.호텔 전체적으로 청결하며 서비스도 좋았고, 아름다운 바다 뷰를 감상할 수 있었습니다. 전체적으로 만족스러운 경험을 한 숙소였습니다. 위치와 서비스, 시설이 만족스러운 좋은 숙소였고, 다음에도 이용하고 싶은 곳입니다. 위치도 좋고 객실이 깔끔하고 편하고 만점의 만족도였습니다. 서비스도 좋고 청결한 객실 구비하는 숙소로 편안한 휴식을 누릴 수 있었습니다. 또 방문할 의사가 있습니다. 위치가 좋은 만큼 편리하고, 깨끗한 객실과 친절한 직원들이 인상적이었습니다. 아주 좋은 서비스와 시설을 제공하는 숙소로, 다음에도 방문하고 싶습니다. 위치와 청결도, 서비스 등 모든면에 호텔로, 만족스러운 휴식을 누릴 수 있었습니다. 다시 방문하고 싶은 곳입니다. 위치와 뷰, 시설 등이 매우 만족스러운 곳으로, 편안한 휴식을 취할 수 있었습니다. 직원들의 친절함과 청결한 환경에 감사를 표하며, 매우 편안한 휴가를 보낸 숙소입니다.분위기와 친절한 서비스로, 편안한 휴식을 누릴 수 있었고, 다음에도 이용할 계획입니다. 위치와 객실 상태 모두. 좋은 경험을 만든 호텔로서, 다시 방문할 의사가 있습니다. 시설과 현지 매력을 동시에 경험할 수 있는 호텔을 선택하며, 편안한 여행을 경험하고 싶었습니다. 위치와 객실의 청결 상태에 만족하며, 다음 여행 때도 이미 예약할 것이 기다리고 있습니다. 서비스와 소음, 뷰, 위치에 다 만족하며, 재방문할 의사가 있습니다. 편리한 주차시설과 바다 전망을 자랑하며, 친절한 직원분들의 응대가 훌륭했습니다. 분위기와 청결함을 겸비한 굿 호텔로, 다음 방문 때도 선택할 예정입니다. 위치와 내부 시설에 만족하여 여행을 편안히 즐길 수 있었으며, 다음 여행 때도 이용할 계획입니다. 위치와 청결도, 서비스에 대해 만족하였으며, 다음 방문 때도 선택할 의향이 있습니다. 즐거운 휴식을 위한 숙소를 찾기 위해 정보를 검색하면서 이용하게 되었고, 진정한 호텔 품위를 느낄 수 있어 너무 좋았습니다. 위치와 시설에서 대만족스러운 호텔로, 편안한 시간을 보낼 수 있었습니다. 뷰와 친절한 서비스로 어느 한 부분에 만족할만한 숙소로, 다음 방문 때도 선택하겠습니다. 위치와 청결도 등이 매우 만족스러운 곳으로 편안한 시간을 보낼 수 있었습니다. 분위기와 침구류, 객실 청결 등에 만족하며, 다시 방문할 의사가 있는 호텔입니다. 산책하며 바닷길을 거닐 수 있는 편리한 위치와 청결한 객실로, 완벽한 휴식을 취할 수 있었습니다. 친절한 직원과 청결한 전망을 즐길 수 있는 호텔로, 향후에도 이용할 의향이 있습니다. 부족한 점을 찾기 어려운 좋은 숙소로, 관리가 잘 되어 있다는 느낌을 받았습니다. 뷰와 전체적인 시설에 만족하여 훌륭한 휴식을 취할 수 있는 호텔이었습니다. 친절한 직원과 청결한 시설이 인상적이어서, 다음 파트너와 함께 방문할 계획입니다.화장실까지 청결도를 유지하고 있어서 너무 좋고, 다시 방문할 의사가 있습니다. 위치와 청결도 등이 만족스러워서 편안한 숙박을 즐길 수 있습니다. 시설이 잘 갖춰져 있고 직원들도 친절하여 편안한 밤을 보낼 수 있었습니다.화장실과 침대가 깨끗하고 아늑하여, 편안한 휴식을 취할 수 있었고, 다음 방문에도 선택할 의향입니다.동반한 엄마와 더불어 행복한 여행을 즐길 수 있었으며, 다음도 함께 즐길 목적으로 간다면 선택할 것입니다. 모든면에서 훌륭한 경험을 제공해준 호텔로, 다음 여행 때도 이용할 계획입니다.분위기와 시설이 매우 좋고, 청결하다ㅎ. 직원분들도 매우 친절하고 상냥하셔서, 감사합니다! 관리가 잘 되어 있어서 안심하고 지낼 수 있었고, 다음에 또 방문할 의사가 있습니다. 위치와 설비, 백값의 서비스로, 편안한 휴식을 갖출 수 있었습니다. 뷰와 친절한 서비스로 남녀노소 모두 대만족수처럼, 다음 방문할 때도 선택할 의향이 있습니다. 위치와 시설이 훌륭한 호텔로 편안한 휴식을 취할 수 있었으며, 다음 방문 때도 선택할 의사가 있습니다.분위기와 친절한 직원들로 흠잡을 곳이 없었던 호텔로, 편안한 휴식을 취할 수 있었습니다. 완벽한 휴식을 제공하여 다음 경험때도 이용할 뜻이 있습니다. 위치와 서비스가 좋고, 직원분들이 친절하게 대해주셔서 편하게 놀았다. 깨끗한 전망을 갖추고 있어 편안한 휴식을 취한 호텔로,', '바다가 바로 앞에 있어 전망이 좋고 객실이 깨끗했습니다. 침구와 어메니티도 만족스러웠고 다음에 또 방문하고 싶어요.\\n직원분들도 친절하시고 관리가 잘되어있어서 편안한 휴식을 취할 수 있었습니다. 이용 후 다음에도 이 숙소를 선택하고 싶어요.', '바닷가 바로 앞에 위치한 숙소로, 객실이 깨끗하고 샤워기 수압이 좋아 만족스러운 여행을 즐겼습니다. 오션뷰로 특별한 기념일을 즐기기에 좋았고, 직원분들의 친절한 응대와 예쁜 오션뷰로 기분 좋은 여행을 즐길 수 있었습니다. 또한, 강릉을 방문하는 여행자가 많이 만족한 호텔로, 깔끔한 객실과 친절한 응대로 좋은 추억을 남기고 지난주에 방문한 고객이 재방문 의사 100%를 갖고 있는 숙소입니다. 호텔의 위치와 청결한 객실로 편안한 휴식을 즐기기에 좋았고, 바다 전망과 침대의 편압함으로 행복한 시간을 보낼 수 있었습니다. 다만, TV에서의 넷플릭스 사용에 어려움을 겪었던 점을 제외하고, 모든 것이 만족스럽게 이용할 수 있었습니다.', '객실은 바다가 근처에 위치하며 깨끗하고 편안한 분위기에 만족스러웠습니다. 다음에도 또 방문하고 싶은 숙소입니다. 경포해변이 가까워 산책하기에도 좋았고 밥먹을 곳이 인접해 편리한 위치에 있습니다. 숙소 관리와 청결 상태는 매우 훌륭하였으며, 직원분들의 친절한 응대로 편안한 휴식을 취할 수 있었습니다. 추천드릴 만한 숙박장소입니다.', '요약:\\n바닷가 바로앞 위치와 깔끔한 객실, 좋은 샤워시설로 만족한 친구들과 함께 편안하게 머물렀습니다. 오션뷰를 즐기며 남자친구와 특별한 생일을 지냈다고 만족스러운 후기가 있었습니다. 황금연휴에 아름다운 오션뷰를 감상하며 기분좋게 머물렀고, 친절한 직원분들이 인상적이었다는 평이 있습니다. 종합적으로, 객실 청결 상태와 바다 전망, 그리고 직원의 친절한 안내로 편안한 숙박을 경험한 고객들이 다수 있습니다.다양한 시설들을 갖춘 편안한 객실과 친절한 직원들의 서비스로 재방문 의사가 높은 숙소로 손꼽히는 것으로 보입니다.', '이 숙소는 바닷가 전망이 정말 아름답습니다. 객실은 깨끗하고 샤워기 수압도 좋습니다. 친구들과 함께 즐거운 시간을 보냈다는 후기가 많은 편입니다. 오션뷰가 좋아서 재방문을 고민하고 있는 다양한 손님들에게 추천됩니다. 포근한 침구와 깔끔한 객실 관리로 모두 만족시키는 호텔로 손꼽히고 있습니다.', '주변 경포 바다가 너무 좋아요. 숙소가 청결하고, 샤워기 수압도 훌륭해서 만족스럽게 머물렀습니다. 친구들과 함께 와서 다들 만족하고 갑니다. 앞으로도 꼭 다시 방문하고 싶어요. 감사합니다.', '숙소는 바닷가에 위치하여 전망이 아주 좋았습니다. 객실은 깨끗하고 샤워기의 수압과 따뜻한 물이 잘 나오는 것 또한 좋았습니다. 친구들과 함께 머물렀는데 만족스러워서 모두가 기분 좋게 떠났어요.\\n오션뷰는 정말 멋지고, 바다를 보면서 특별한 시간을 보낼 수 있었습니다. 직원분들의 친절함과 2층의 아름다운 바다 전망이 인상적이었습니다. 다음에도 꼭 다시 방문하고 싶은 곳이었어요.']\n"
     ]
    }
   ],
   "source": [
    "print(summaries)"
   ]
  },
  {
   "cell_type": "code",
   "execution_count": null,
   "metadata": {},
   "outputs": [],
   "source": []
  }
 ],
 "metadata": {
  "kernelspec": {
   "display_name": "llm_env",
   "language": "python",
   "name": "python3"
  },
  "language_info": {
   "codemirror_mode": {
    "name": "ipython",
    "version": 3
   },
   "file_extension": ".py",
   "mimetype": "text/x-python",
   "name": "python",
   "nbconvert_exporter": "python",
   "pygments_lexer": "ipython3",
   "version": "3.12.7"
  }
 },
 "nbformat": 4,
 "nbformat_minor": 4
}
