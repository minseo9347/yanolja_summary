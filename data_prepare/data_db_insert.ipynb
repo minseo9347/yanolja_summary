{
 "cells": [
  {
   "cell_type": "markdown",
   "id": "3f7b27b1",
   "metadata": {},
   "source": [
    "# review로딩 -> df 만들기"
   ]
  },
  {
   "cell_type": "code",
   "execution_count": null,
   "id": "25221056",
   "metadata": {},
   "outputs": [],
   "source": [
    "from datetime import datetime\n",
    "import json\n",
    "import pandas as pd\n",
    "\n",
    "# file로딩 -> df 만드는 함수 : 1개의 파일을 전처리하는 함수\n",
    "def load_data(data_path):\n",
    "    # 파일로딩\n",
    "    with open(f\"{data_path}\", \"r\", encoding=\"utf-8\") as file:\n",
    "        json_data = json.load(file)\n",
    "\n",
    "    # 로딩 데이터 -> df로 만들기\n",
    "    df = pd.DataFrame(json_data)\n",
    "    # print(df.head())\n",
    "    # 데이터 전처리\n",
    "    df['date'] = df['date'].str.replace(\".\", \"-\")\n",
    "    # date 형태(2025.05.06)가 아닌경우, 오늘날짜로 바꾸기\n",
    "    # 문자열을 날짜로 변환, 오류가 나는 경우 NaT로 처리\n",
    "    df['date'] = pd.to_datetime(df['date'], errors='coerce')\n",
    "    # 오늘 날짜\n",
    "    today = pd.Timestamp(datetime.today().date())\n",
    "    # NaT인 경우 오늘 날짜로 대체\n",
    "    df['date'] = df['date'].fillna(today)\n",
    "\n",
    "    # df 리턴하기\n",
    "    return df"
   ]
  },
  {
   "cell_type": "code",
   "execution_count": 11,
   "id": "67026c24",
   "metadata": {},
   "outputs": [
    {
     "data": {
      "text/plain": [
       "datetime.date(2025, 6, 5)"
      ]
     },
     "execution_count": 11,
     "metadata": {},
     "output_type": "execute_result"
    }
   ],
   "source": [
    "datetime.today().date()"
   ]
  },
  {
   "cell_type": "code",
   "execution_count": 17,
   "id": "9f47c213",
   "metadata": {},
   "outputs": [
    {
     "name": "stdout",
     "output_type": "stream",
     "text": [
      "420\n"
     ]
    },
    {
     "name": "stderr",
     "output_type": "stream",
     "text": [
      "C:\\Users\\Public\\Documents\\ESTsoft\\CreatorTemp\\ipykernel_20428\\2935223973.py:18: UserWarning: Could not infer format, so each element will be parsed individually, falling back to `dateutil`. To ensure parsing is consistent and as-expected, please specify a format.\n",
      "  df['date'] = pd.to_datetime(df['date'], errors='coerce')\n"
     ]
    },
    {
     "data": {
      "text/html": [
       "<div>\n",
       "<style scoped>\n",
       "    .dataframe tbody tr th:only-of-type {\n",
       "        vertical-align: middle;\n",
       "    }\n",
       "\n",
       "    .dataframe tbody tr th {\n",
       "        vertical-align: top;\n",
       "    }\n",
       "\n",
       "    .dataframe thead th {\n",
       "        text-align: right;\n",
       "    }\n",
       "</style>\n",
       "<table border=\"1\" class=\"dataframe\">\n",
       "  <thead>\n",
       "    <tr style=\"text-align: right;\">\n",
       "      <th></th>\n",
       "      <th>review</th>\n",
       "      <th>stars</th>\n",
       "      <th>date</th>\n",
       "    </tr>\n",
       "  </thead>\n",
       "  <tbody>\n",
       "    <tr>\n",
       "      <th>0</th>\n",
       "      <td>바닷가 바로앞이라 너무좋아요.\\n객실도 깨끗하고, 샤워기 수압좋고 따뜻한물 잘 나오...</td>\n",
       "      <td>5</td>\n",
       "      <td>2025-06-05</td>\n",
       "    </tr>\n",
       "    <tr>\n",
       "      <th>1</th>\n",
       "      <td>오션뷰라 진짜 좋았어요!! ㅎㅎㅎ\\n제 생일이라 남자친구하고 처음 오션뷰 예약해서 ...</td>\n",
       "      <td>5</td>\n",
       "      <td>2025-06-05</td>\n",
       "    </tr>\n",
       "    <tr>\n",
       "      <th>2</th>\n",
       "      <td>황금연휴에 방문했는데 오션뷰가 정말 예쁘더라고요👍\\n저는 2층에 머물렀는데, 창밖으...</td>\n",
       "      <td>5</td>\n",
       "      <td>2025-05-06</td>\n",
       "    </tr>\n",
       "    <tr>\n",
       "      <th>3</th>\n",
       "      <td>위치좋고 직원들 전부 친절하고 재방문의사100%입니다</td>\n",
       "      <td>5</td>\n",
       "      <td>2025-06-05</td>\n",
       "    </tr>\n",
       "    <tr>\n",
       "      <th>4</th>\n",
       "      <td>좋았습니다 수고하세요</td>\n",
       "      <td>5</td>\n",
       "      <td>2025-06-05</td>\n",
       "    </tr>\n",
       "    <tr>\n",
       "      <th>5</th>\n",
       "      <td>괜찬아요\\n바다바로앞이라좋아요</td>\n",
       "      <td>5</td>\n",
       "      <td>2025-06-05</td>\n",
       "    </tr>\n",
       "    <tr>\n",
       "      <th>6</th>\n",
       "      <td>우선 바람이 불어서 예정보다 30분 숙소 입실을 허락해줌\\n그런데 오션뷰 2층 20...</td>\n",
       "      <td>2</td>\n",
       "      <td>2025-06-05</td>\n",
       "    </tr>\n",
       "    <tr>\n",
       "      <th>7</th>\n",
       "      <td>강원도를 좋아하는 여행자입니다.\\n강릉 스카이베이,속초 카시아,롯데 다이용해봤지만\\...</td>\n",
       "      <td>5</td>\n",
       "      <td>2025-05-27</td>\n",
       "    </tr>\n",
       "    <tr>\n",
       "      <th>8</th>\n",
       "      <td>강문해변 바로 앞이라 위치도 좋고 버스 정류장도 바로 근처라 이동이 너무 편리해서 ...</td>\n",
       "      <td>5</td>\n",
       "      <td>2025-05-24</td>\n",
       "    </tr>\n",
       "    <tr>\n",
       "      <th>9</th>\n",
       "      <td>내부가 깔끔했어요 \\n전망도 해안뷰가 이뻤어요\\n담에 또 오고싶네요</td>\n",
       "      <td>5</td>\n",
       "      <td>2025-05-24</td>\n",
       "    </tr>\n",
       "  </tbody>\n",
       "</table>\n",
       "</div>"
      ],
      "text/plain": [
       "                                              review  stars       date\n",
       "0  바닷가 바로앞이라 너무좋아요.\\n객실도 깨끗하고, 샤워기 수압좋고 따뜻한물 잘 나오...      5 2025-06-05\n",
       "1  오션뷰라 진짜 좋았어요!! ㅎㅎㅎ\\n제 생일이라 남자친구하고 처음 오션뷰 예약해서 ...      5 2025-06-05\n",
       "2  황금연휴에 방문했는데 오션뷰가 정말 예쁘더라고요👍\\n저는 2층에 머물렀는데, 창밖으...      5 2025-05-06\n",
       "3                      위치좋고 직원들 전부 친절하고 재방문의사100%입니다      5 2025-06-05\n",
       "4                                        좋았습니다 수고하세요      5 2025-06-05\n",
       "5                                   괜찬아요\\n바다바로앞이라좋아요      5 2025-06-05\n",
       "6  우선 바람이 불어서 예정보다 30분 숙소 입실을 허락해줌\\n그런데 오션뷰 2층 20...      2 2025-06-05\n",
       "7  강원도를 좋아하는 여행자입니다.\\n강릉 스카이베이,속초 카시아,롯데 다이용해봤지만\\...      5 2025-05-27\n",
       "8  강문해변 바로 앞이라 위치도 좋고 버스 정류장도 바로 근처라 이동이 너무 편리해서 ...      5 2025-05-24\n",
       "9              내부가 깔끔했어요 \\n전망도 해안뷰가 이뻤어요\\n담에 또 오고싶네요      5 2025-05-24"
      ]
     },
     "execution_count": 17,
     "metadata": {},
     "output_type": "execute_result"
    }
   ],
   "source": [
    "# 함수 호출부\n",
    "data_path = \"res/1.gangneung_mare.json\"\n",
    "df = load_data(data_path)\n",
    "print(len(df))\n",
    "df.head(10)"
   ]
  },
  {
   "cell_type": "markdown",
   "id": "c71f5106",
   "metadata": {},
   "source": [
    "# mysql DB 연결하기"
   ]
  },
  {
   "cell_type": "code",
   "execution_count": 16,
   "id": "56684e41",
   "metadata": {},
   "outputs": [],
   "source": [
    "\n",
    "from dotenv import load_dotenv\n",
    "import os\n",
    "import pandas as pd\n",
    "from sqlalchemy import create_engine\n",
    "\n",
    "# .env 파일을 찾아서 환경변수 로딩\n",
    "load_dotenv('.env', override=True)\n",
    "\n",
    "# 메모리에 로딩된 환경변수 값을 가져오기\n",
    "USER = os.environ.get(\"USER\")\n",
    "PASSWORD = os.environ.get(\"PASSWORD\")\n",
    "HOST = os.environ.get(\"HOST\")\n",
    "DB_NAME = os.environ.get(\"DB_NAME\")\n",
    "PORT = 3306\n",
    "\n",
    "# DB_URL = f\"mysql+pymysql://{id}:{pw}@{서버ip}:{port}/{db}\"\n",
    "DB_URL = f\"mysql+pymysql://{USER}:{PASSWORD}@{HOST}:{PORT}/{DB_NAME}\""
   ]
  },
  {
   "cell_type": "markdown",
   "id": "f530db36",
   "metadata": {},
   "source": [
    "# df -> mysql 테이블에 저장"
   ]
  },
  {
   "cell_type": "code",
   "execution_count": 17,
   "id": "0ecfa797",
   "metadata": {},
   "outputs": [],
   "source": [
    "def save_to_db(df, table_name):\n",
    "    try:\n",
    "        # sqlalchemy로 mysql엔진 생성\n",
    "        engine = create_engine(DB_URL)    \n",
    "\n",
    "        # df을 mysql 테이블에 저장\n",
    "        df.to_sql(\n",
    "            name = table_name,\n",
    "            con = engine,\n",
    "            if_exists = 'append',\n",
    "            index = False,\n",
    "            method=\"multi\"\n",
    "        )\n",
    "        print(f\"SQLAlchemy를 통해 {len(df)}개의 리뷰가 성공적으로 저장되었습니다.\")\n",
    "    except Exception as e:\n",
    "        print(f\"DB 저장시 {e}가 발생함\")\n",
    "    "
   ]
  },
  {
   "cell_type": "markdown",
   "id": "25e54133",
   "metadata": {},
   "source": [
    "# 숙소 정보 DB 저장하기"
   ]
  },
  {
   "cell_type": "code",
   "execution_count": 32,
   "id": "0037a80f",
   "metadata": {},
   "outputs": [
    {
     "name": "stdout",
     "output_type": "stream",
     "text": [
      "SQLAlchemy를 통해 4개의 리뷰가 성공적으로 저장되었습니다.\n"
     ]
    }
   ],
   "source": [
    "import pandas as pd\n",
    "df = pd.read_csv('res/accommodation_info.csv', encoding='utf-8')\n",
    "# df.head()\n",
    "table_name = 'accommodation_info'\n",
    "save_to_db(df, table_name)"
   ]
  },
  {
   "cell_type": "markdown",
   "id": "344e0188",
   "metadata": {},
   "source": [
    "# 리뷰데이터 저장하기"
   ]
  },
  {
   "cell_type": "code",
   "execution_count": 35,
   "id": "06ccb3f9",
   "metadata": {},
   "outputs": [
    {
     "name": "stdout",
     "output_type": "stream",
     "text": [
      "SQLAlchemy를 통해 420개의 리뷰가 성공적으로 저장되었습니다.\n"
     ]
    },
    {
     "name": "stderr",
     "output_type": "stream",
     "text": [
      "C:\\Users\\Public\\Documents\\ESTsoft\\CreatorTemp\\ipykernel_20428\\2935223973.py:18: UserWarning: Could not infer format, so each element will be parsed individually, falling back to `dateutil`. To ensure parsing is consistent and as-expected, please specify a format.\n",
      "  df['date'] = pd.to_datetime(df['date'], errors='coerce')\n"
     ]
    }
   ],
   "source": [
    "# 전처리\n",
    "data_path = \"res/1.gangneung_mare.json\"\n",
    "df = load_data(data_path)\n",
    "\n",
    "# df에 accommodation_id 추가하기\n",
    "# 강릉 마레는 accommodation_id = 1\n",
    "df['accommodation_id'] = 1\n",
    "# df.head()\n",
    "\n",
    "# DB 테이블에 저장하기\n",
    "table_name = \"accommodation_review\"\n",
    "save_to_db(df, table_name)"
   ]
  },
  {
   "cell_type": "markdown",
   "id": "469461b9",
   "metadata": {},
   "source": [
    "# 여러개의 파일을 일괄로 전처하기"
   ]
  },
  {
   "cell_type": "markdown",
   "id": "23c03cd5",
   "metadata": {},
   "source": [
    "- 함수 정의"
   ]
  },
  {
   "cell_type": "code",
   "execution_count": 38,
   "id": "ade7f48e",
   "metadata": {},
   "outputs": [],
   "source": [
    "from datetime import datetime\n",
    "import json\n",
    "import pandas as pd\n",
    "\n",
    "# file로딩 -> df 만드는 함수 : 1개의 파일을 전처리하는 함수\n",
    "def load_data_multi(acco_id, data_path):\n",
    "    # 파일로딩\n",
    "    with open(f\"{data_path}\", \"r\", encoding=\"utf-8\") as file:\n",
    "        json_data = json.load(file)\n",
    "\n",
    "    # 로딩 데이터 -> df로 만들기\n",
    "    df = pd.DataFrame(json_data)\n",
    "    # print(df.head())\n",
    "    # 데이터 전처리\n",
    "    df['date'] = df['date'].str.replace(\".\", \"-\")\n",
    "    # date 형태(2025.05.06)가 아닌경우, 오늘날짜로 바꾸기\n",
    "    # 문자열을 날짜로 변환, 오류가 나는 경우 NaT로 처리\n",
    "    df['date'] = pd.to_datetime(df['date'], errors='coerce')\n",
    "    # 오늘 날짜\n",
    "    today = pd.Timestamp(datetime.today().date())\n",
    "    # NaT인 경우 오늘 날짜로 대체\n",
    "    df['date'] = df['date'].fillna(today)\n",
    "\n",
    "    # df에 accommodation_id 추가하기\n",
    "    # 강릉 마레는 accommodation_id = 1\n",
    "    df['accommodation_id'] = acco_id\n",
    "    # df.head()\n",
    "\n",
    "    # df 리턴하기\n",
    "    return df"
   ]
  },
  {
   "cell_type": "markdown",
   "id": "7a39cc8c",
   "metadata": {},
   "source": [
    "- 일괄 실행"
   ]
  },
  {
   "cell_type": "code",
   "execution_count": 39,
   "id": "72cacda3",
   "metadata": {},
   "outputs": [
    {
     "name": "stdout",
     "output_type": "stream",
     "text": [
      "SQLAlchemy를 통해 420개의 리뷰가 성공적으로 저장되었습니다.\n",
      "SQLAlchemy를 통해 420개의 리뷰가 성공적으로 저장되었습니다.\n"
     ]
    },
    {
     "name": "stderr",
     "output_type": "stream",
     "text": [
      "C:\\Users\\Public\\Documents\\ESTsoft\\CreatorTemp\\ipykernel_20428\\1316262341.py:18: UserWarning: Could not infer format, so each element will be parsed individually, falling back to `dateutil`. To ensure parsing is consistent and as-expected, please specify a format.\n",
      "  df['date'] = pd.to_datetime(df['date'], errors='coerce')\n"
     ]
    }
   ],
   "source": [
    "# 전처리하고 저장해야하는 데이터 파일이 10\n",
    "MAPPING = {\n",
    "    # 1: './res/1.gangneung_mare.json',\n",
    "    2: './res/2.insadong_ninetree.json',\n",
    "    3: './res/3.kyongpo_the_hongc.json',\n",
    "    # 4: './res/4.hongcheon_vivaldi.json'\n",
    "}\n",
    "\n",
    "for acco_id, data_path in MAPPING.items():\n",
    "    # 전처리\n",
    "    # data_path = \"res/1.gangneung_mare.json\"\n",
    "    df = load_data_multi(acco_id, data_path)\n",
    "\n",
    "    # DB 테이블에 저장하기\n",
    "    table_name = \"accommodation_review\"\n",
    "    save_to_db(df, table_name)"
   ]
  },
  {
   "cell_type": "markdown",
   "id": "e16c9d6e",
   "metadata": {},
   "source": [
    "# review summary 한결과 DB 저장하기"
   ]
  },
  {
   "cell_type": "markdown",
   "id": "d0f75e98",
   "metadata": {},
   "source": [
    "- 리뷰 데이터 로딩\n",
    "- 프롬프트를 활용해서, LLM을 통한 리뷰요약\n",
    "- 요약한 결과를 dB 저장하기"
   ]
  },
  {
   "cell_type": "code",
   "execution_count": 7,
   "id": "36015087",
   "metadata": {},
   "outputs": [],
   "source": [
    "from summary_modules import load_prompt, preprocess_reviews, summarize"
   ]
  },
  {
   "cell_type": "code",
   "execution_count": 8,
   "id": "070e1f50",
   "metadata": {},
   "outputs": [
    {
     "data": {
      "text/plain": [
       "'당신은 요약 전문가입니다. 사용자 숙소 리뷰들이 주어졌을 때 요약하는 것이 당신의 목표입니다.\\n\\n요약 결과는 다음 조건들을 충족해야 합니다:\\n1. 모든 문장은 항상 존댓말로 끝나야 합니다.\\n2. 숙소에 대해 소개하는 톤앤매너로 작성해주세요.\\n  2-1. 좋은 예시\\n    a) 전반적으로 좋은 숙소였고 방음도 괜찮았다는 평입니다.\\n    b) 재방문 예정이라는 평들이 존재합니다.\\n  2-2. 나쁜 예시\\n    a) 좋은 숙소였고 방음도 괜찮았습니다.\\n    b) 재방문 예정입니다.\\n3. 요약 결과는 최소 2문장, 최대 5문장 사이로 작성해주세요.\\n\\n다음은 리뷰들과 요약 예시입니다.\\n예시 리뷰들:\\n[REVIEW_START]바닷가 바로앞이라 너무좋아요.\\n객실도 깨끗하고, 샤워기 수압좋고 따뜻한물 잘 나오는것도 좋았어요~ 친구들이랑 왔다가 다들 만족하고 갑니다ㅎ[REVIEW_END]\\n[REVIEW_START]오션뷰라 진짜 좋았어요!! ㅎㅎㅎ\\n제 생일이라 남자친구하고 처음 오션뷰 예약해서 온거였는데 진짜 색달랐어요. 옆에 바다보면서 닭강정먹고.. 또 새벽에 바다 구경하고.. 진짜 잘 보내다 가요🥰[REVIEW_END]\\n[REVIEW_START]황금연휴에 방문했는데 오션뷰가 정말 예쁘더라고요👍\\n저는 2층에 머물렀는데, 창밖으로 보이는 바다가 너무 아름다웠어요\\n직원분들도 모두 친절하셔서 기분 좋게 머물다 갑니다👏\\n다음에도 꼭 다시 방문하고 싶어요![REVIEW_END]\\n[REVIEW_START]강원도를 좋아하는 여행자입니다.\\n강릉 스카이베이,속초 카시아,롯데 다이용해봤지만\\n진짜 이가격에 이정도 퀄리티숙소 너무너무 만족하며 이용했습니다\\n침구며 객실관리가 청결하게 잘 관리되어있고\\n침대도 푹신하니 좋았어요\\n단점이라고 하면 이층이라그런가 밤늦게까지 폭죽소리가 너무 시끄러웠고\\n비게가 저한테는 높아서 좀 불편했다는 정도..?\\n이가격에 오션뷰에 호텔급 침구에 너무 만족했습니다\\n재방문의사 100프로입니다[REVIEW_END]\\n[REVIEW_START]강문해변 바로 앞이라 위치도 좋고 버스 정류장도 바로 근처라 이동이 너무 편리해서 좋았습니다. 객실과 화장실도 매우 청결 했어요! 너무 쾌적하게 잘 지내다 갑니다[REVIEW_END]\\n[REVIEW_START]내부가 깔끔했어요 \\n전망도 해안뷰가 이뻤어요\\n담에 또 오고싶네요[REVIEW_END]\\n[REVIEW_START]바다소리들으며 편하게잤습니다 ㅎ\\n금연객실에ㆍ 회ㆍ대게 종류 반입이안되는데 그만큼관리하시고신경써서그런지 객실이너무청결해서 정말좋았습니다 \\n친절한응대도 👍 👍 👍 👍 👍 👍 👍 👍[REVIEW_END]\\n[REVIEW_START]오션뷰가 너무 예쁘고 방도 깨끗했습니다. 강릉 갈때마다 이용하는데 정말 좋아요.[REVIEW_END]\\n[REVIEW_START]크진 않지만 방음도 좋고 깨끗하면 주차하는곳도 넓어 편하게 있다 왔네요[REVIEW_END]\\n[REVIEW_START]뷰가 너무 좋았습니다 바다와 호수가 가까워서 편리했어요[REVIEW_END]\\n[REVIEW_START]사진은없지만 객실 응대와\\n카운터 매너가 상당히 좋습니다\\n호텔 모텔 많이 다녀와봣지만 손꼽는 매너입니다\\n굿굿 객실도 깔끔했어요\\n특히 사장님 응대가 너무 좋았어요\\n또 강릉가게되면 여기입니다 😃[REVIEW_END]\\n[REVIEW_START]청결 상태 매우 좋고 호텔 바로옆에는 편의점\\n바로 앞에는 경포해변 뷰가 엄청 멋졌어요\\n일요일엔 폭죽 터뜨리는 사람이 많아서 잘 때\\n조금 시끄러웠지만 넘어갈 수 있는 정도 ㅎㅎ\\n잘 놀고갑니다!![REVIEW_END]\\n[REVIEW_START]룸 컨디션 좋아요. 전망도 좋아요. 주차도 좋네요. 친절합니다.[REVIEW_END]\\n[REVIEW_START]스탠다드룸 작긴 하지만 깔끔하니 잘 지내다 가요:)\\n고층에 배정은 처음 받았는데 호수와 공원 모습이 예뻤어요[REVIEW_END]\\n[REVIEW_START]숙소 뷰가 너무 예쁘고 바다 와 식당들이 다 가까이에 있어서 좋았습니다 잘 자고 좋은 추억 남기고 갑니다![REVIEW_END]\\n[REVIEW_START]친절한 24시간 데스크와 깔끔한 오션뷰, 깨끗한 객실 내부를 갖추고 있습니다. 다음에도 이용하고 싶은 숙소입니다.\\n\\n다만 아쉬운 점은 tv 자체의 문제인 건지 넷플릭스 개인계정 사용을 하더라도 넷플릭스가 멈춰 사용이 불가능 했습니다. 그 외의 것들은 모두 만족스럽게 이용하고 갑니다.[REVIEW_END]\\n[REVIEW_START]경포해변 바로 코 앞이고 직원분도 친절하시고 깨끗해서 좋아요!![REVIEW_END]\\n[REVIEW_START]테라스도 있고 밑에서 담배냄새 올라오는거빼곤 다 좋았습니다![REVIEW_END]\\n[REVIEW_START]주차도 편하고 바로 앞에 바다도 보이고\\n진짜 바다 30초 거리에요!\\n바로 옆에 식당들도 많고 편의점도 가깝고 좋아요\\n지난주에 여행왔다 너무 좋아서\\n엄마랑 또 여행와서 여기 이용햤는데\\n강릉오면 여기만 이용하게 될 거 같아요 \\n룸 컨디션도 너무 좋고 밤에 불꽃놀이 하시는 분들 \\n있긴하지만 이중창이라 시끄럽게 들리지 않아요[REVIEW_END]\\n[REVIEW_START]강릉갈때마다 여기로 예약합니다 숙소에서 보는 호수뷰도 좋고 바로앞에 경포대라서 바다도 좋고 깨끗하고 친절하고 강추![REVIEW_END]\\n[REVIEW_START]테라스가 있어서 바깥 구경하기 좋고 조용하고 깨끗해요\\n\\n주변에 먹을곳도 있고 다음에 재방문 의사 있어요[REVIEW_END]\\n[REVIEW_START]바다 바로 앞이라서 산책하기도 좋고 주변에 밥먹을곳도 있어서 접근성도 좋아요[REVIEW_END]\\n[REVIEW_START]깨끗하고 좋아요 \\n바로 앞에 바다도 있고 주변에 식당이나\\n편의시설이 다 가까워서 좋았아요[REVIEW_END]\\n[REVIEW_START]결혼기념일 맞아 급하게 떠나며 예약했는데...청소청결 너~~무~~깨끗하고 내집보다 깨끗하고 따뜻했고 너무 잘 쉬다 왔어요 늦은시간 도착했는데도 친절히 잘 설명해주셨고 따뜻한물 잘 나오고 전망도\\n탁트여서 바다가 한눈에 보이는게 집에 오기 싫더라구요 담에도 꼭 이용할게요 힐링그자체였습니다~~^^[REVIEW_END]\\n[REVIEW_START]경포대 오션뷰 정말 예뻐요ㅎㅎ 굳이 해변 안나가도 방에서 바다 편하게 볼 수 있어요! 사장님 친절하시구요, 무엇보다 침구류가 정말 좋아요ㅎㅎ 뽀송뽀송한 린넨향이 아직도 생각나요[REVIEW_END]\\n[REVIEW_START]가족과 함께 하룻밤 편안하게 보냈어요.\\n직원분이 친절하게 맞이해 주었고, 주차장이 넓어서 편안하게 주차를 했어요.\\n침대와 침대이불, 화징실 등 매우 청결했어요.\\n푹신한 침대에서 편히 잤어요.\\n바로 바다가 있어서 밤바다를 보고 일출도 보고..\\n행복한 시간이었습니다~🙂[REVIEW_END]\\n[REVIEW_START]무조건 강추 입니다... 다른말이 필요 없어요 \\n진짜 휴식이 뭔지를 보여준 듯한 숙소였어욤[REVIEW_END]\\n[REVIEW_START]5층배정받았는데 뷰가 엄청이쁘고 침구류에 예민한데 역시 후기들대로 깔끔하고좋습니다. 그리고 직원분들도 매우친절하시구요, 재방문의사있습니다.[REVIEW_END]\\n[REVIEW_START]관리를 아주 잘 하시는 호텔 같아요\\n깨끗하고 컨디션이 흠잡을 곳이 없더라구요\\n객실도 조용하고 화장실까지 너무 깔끔하고 향도 좋아서 대만족 입니다. 위치도 매우좋고 창밖으로 보이는 뷰도 매우 좋아요. 재방문의사 100% 있어요~[REVIEW_END]\\n[REVIEW_START]저층이다보니 나무가 많이 보이긴해도 사이사이바다가 살짝보여요~\\n3층이상이여야 탁트인바다가보일듯\\n객실 너무청결하고 좋음\\n침구와욕실 모두 깔끔\\n깔끔떠는 중딩딸 대만족~~\\n아주즐거운 여행에 플러스를 주는 숙소였어요^^[REVIEW_END]\\n[REVIEW_START]강원도에 처음 가시는 엄마 모시고 여행 다녀왔는데 객실도 깨끗하고 따듯하고 너무 친절하셔서 여행 내내 행복하게 잘 지내다 왔습니다! 다음에 엄마랑 꼭 또 같이 갈게요🍀♥️[REVIEW_END]\\n[REVIEW_START]친구만나서 집근처에서 점심먹다가 강릉 바람쐬러 가? 진짜 가?? 하다가 정말로 뜬금없이 강릉 출발하면서 오후늦게 급하게 잡은 숙소인데 완전 만족했습니다.\\n\\n체크인 시 프론트 직원분이 친절하게 안내해주시고 객실복도에서 은은하게 퍼지는 디퓨져? 향도 좋았고 무엇보다 2층인데도 호텔 오션뷰는 완전 좋았고 객실 상태도 깨끗하고 침구류도 깨끗하고 포근해서 완전 좋았어요. 잘 쉬고 다음날 물회로 마무리 하고 갑니다~[REVIEW_END]\\n[REVIEW_START]결혼기념일 여행으로 강릉을  계획하고 예약한 호텔 마레  객실컨디션이 생각했던것보다 너무 좋더라구요  욕실 수전에  물자국조차도 없고 침구도 너무 보송보송 깨끗했어요\\n룸에 들어서자마자 바다가 보이고    해변이 바로 코앞이고 호텔뒤쪽으론 경포호수가 보이고 정말 완벽한 위치더라구요\\n옆쪽으론 식당과 횟집, 카페가 많아 식사하기도 좋고, 소개해주신 식당에서  맛있는식사도 하고\\n아침에 남편과 해변산책하기도 너무 좋았네요\\n또 방문하고 싶은 그런 편안하고 멋진 곳이네요~~[REVIEW_END]\\n[REVIEW_START]4층에서 바라보는 바다 뷰가 최고이며 숙소 관리도 잘되어 깨끗합니다[REVIEW_END]\\n[REVIEW_START]뷰가 정말 예뻤던 숙소였어요~ 사진은 3층입니다.\\n내부는 화장실까지 깨끗했고 침구도 좋았습니다.\\n티비로 유튜브도 보고 벽간 소음없이 잘 잤습니다.[REVIEW_END]\\n[REVIEW_START]숙소 고를때 오션뷰를 중요하게 생각했는데 바다가 엄청 잘보이고 좋았어요 숙소도 전반적으로 깨끗하고 좋았습니다[REVIEW_END]\\n[REVIEW_START]숙소도 상세 이미지보다 크고 사장님도 친절하시고 사장님께서 맛있는 횟집도 추천해주십니다~~~~[REVIEW_END]\\n[REVIEW_START]객실도 너무너무 깔끔했고 사장님도 엄청 친절했어요!!\\n\\n그리고 어메니티도 싸구려 하나 없이 다 좋더라구요!\\n원래 어메니티 폼클렌징 쓰면 얼굴이 너무 당기고 뾰루지가 꼭 났었는데 여기는 세수 직후에 촉촉하기도 했고 오히려 뾰루지가 하나 없어졌어요ㅋㅋㅋㅋ 이건 사바사라서 개인의견입니당!\\n아 그리고 바디워시가 달달한 망고향인데 진짜 코박죽 계속하고 있었는데 바디워시 제품명 물어볼껄 그랬어요.. 향기 넘좋아요,,\\n\\n객실간 소음도 안들리고 넷플릭스도 잘 되고 뷰도 예뻤어요!\\n정말 2박3일간 잘 쉬었습니다!!\\n다음에 또 올게요!![REVIEW_END]\\n[REVIEW_START]경포해변 바로 앞이라 진짜 너무 좋았고\\n숙소가 너무 청결해서 앞으로는 경포대 오면\\n여기만 이용할 거 같아요![REVIEW_END]\\n[REVIEW_START]경포대 해변이 바로 앞이여서 산책하기 좋았고\\n객실이 정말 깨끗했어요. 5성급 호텔처럼 깔끔하고 침대도 \\n너무편해서 좋았습니다.  화장실 역시 👍 \\n샴푸등 칫솔 스킨 로션 폼 면도기 믹스커피 아메리카노  ~~~등\\n준비가 다 되어 있어요.😍  \\n퇴실때 보니 다른방 청소하시는 모습에 한번더 반했답니다.\\n강릉오면 또 올께요.~~^^[REVIEW_END]\\n[REVIEW_START]친구들과 강릉 여행을 위해 예약했는데 숙소가 너무 깔끔하고 좋았습니다! 다음에 강릉에 오게 된다면 다시 올 것 같아요.[REVIEW_END]\\n[REVIEW_START]일단 뷰가 .. 진짜 너무 좋습니다 \\n오션뷰 디럭스 방으로 하셔야지 아마 저런 뷰 나오실거에요 \\n근처에 먹을곳이 다 가까워서 좋았습니다\\n또 오고 싶어요 😊\\n방이 진짜 깔끔하더라구요 청결도는 100점인듯[REVIEW_END]\\n[REVIEW_START]여기는\\n진짜 최곱니다… 정말 강릉 올 때마다 방문하고 싶을 정도로 너무 좋은 숙소였어요!! 침구도 깨끗하고 포근해서 잠도 잘 왔구요. 어메니티도 정말 필요한 것들만 있어서 좋았어요. 특히 샤워타월 있는게 정말 좋았습니당 ㅎㅎ 저희는\\n오션뷰 방 선택했는데 진짜 뷰가 작살납니다… 너무 예뻐서 하루종일 바다만 봤어요!!ㅋㅋㅋ 다음에 강릉 오면 또 방문하겠습니다 ㅎㅎ[REVIEW_END]\\n[REVIEW_START]객실과 객실 사이 소음이 전혀 들리지 않고 온수도 잘 나오며 해변가 바다 전망이 좋았어요[REVIEW_END]\\n[REVIEW_START]직원분들 정말 친절하시고 오션뷰였는데 기가 막혔음.\\n매년 방문 예정임. 강추임.[REVIEW_END]\\n[REVIEW_START]전체적으로 관리가 잘된 느낌이에요 완전 깔끔합니다!!\\n건물 앞엔 경포바다가, 건물 뒤엔 경포호수가..\\n뷰도 너무 좋고 뜨거운물도 잘 나옵니당ㅎㅎㅎ[REVIEW_END]\\n[REVIEW_START]돈을 더 투자해서 오션뷰를 선택하길 잘한 것 같아요! \\n겨울이라 추운데 밖에 나가지 않아도 되고, 아침에 눈을 뜨자마자 바다와 수평선을 볼 수 있어요 등대도 하나 있어서 사진도 잘 나오더라구요👍\\n\\n그리고 정말정말 깨끗해요.. 청결에 신경을 많이 쓰시는 것 같습니다! 연박청소도 해주셨는데 처음 그대로 깨끗이 청소해주시고 물, 어메니티, 수건 등 다시 채워주셔서 너무 좋았습니다😆\\n\\n아쉬운 점은 회를 반입해서 먹을 수 없는 것이였어요.. 하지만 그만큼 정말 관리를 열심히 하셔서 너무 깨끗해서 괜찮았습니다!\\n\\n직원분들도 조곤조곤 친절하시고, 뷰도 좋고, 청결한 숙소라서 다시 방문하고 싶은 숙소였습니다! 남자친구도 너무 잘 찾았다고 좋아하더라구요! 잘 묵다 갑니다🥰[REVIEW_END]\\n[REVIEW_START]경포 바다가 바로 앞에 있어 전망이 좋고 객실도 깔끔하니 다음에 또 오고 싶네요~ 잘 쉬다 갑니다^^[REVIEW_END]\\n[REVIEW_START]경포 바다가 바로 앞에 있어 전망이 좋고 객실도 깔끔하니 다음에 또 오고 싶네요~ 잘 쉬다 갑니다^^[REVIEW_END]\\n[REVIEW_START]방 진짜 깨끗했고 어매니티도 왠만한건 다 있어서 편했어요! 비치되어있는 바디워시 냄새가 되게 좋더라구요 망고향인가 방도 깨끗했고 경포호가 보여서 좋았습니다! 또 강릉에 가게된다면 재방문 의향 있습니다😊[REVIEW_END]\\n예시 요약 결과:\\n바닷가 바로 앞에 위치한 숙소로, 객실은 깨끗하고 샤워기 수압이 좋아요. 친구들과 함께 머물기에 만족스러운 곳입니다.\\n오션뷰가 정말 좋은 숙소로, 남자친구와 함께 특별한 날을 보낼 수 있는 곳입니다. 직원분들도 친절하고, 다음에도 꼭 방문하고 싶은 곳입니다.\\n황금연휴에 머물렀는데 오션뷰가 아름다웠고, 2층에서 바라보는 바다 풍경이 멋있었습니다. 직원분들의 친절한 응대도 기억에 남아요.재방문 의사 100%입니다.\\n    \\n아래 숙소 리뷰들에 대해 요약해주세요:'"
      ]
     },
     "execution_count": 8,
     "metadata": {},
     "output_type": "execute_result"
    }
   ],
   "source": [
    "promt_file = \"res/prompt_1shotv1.pickle\"\n",
    "prompt = load_prompt(promt_file)\n",
    "prompt"
   ]
  },
  {
   "cell_type": "code",
   "execution_count": null,
   "id": "2a273dac",
   "metadata": {},
   "outputs": [],
   "source": [
    "# 전처리\n",
    "data_path = \"res/1.gangneung_mare.json\"\n",
    "reviews_good, reviews_bad = preprocess_reviews(data_path)"
   ]
  },
  {
   "cell_type": "code",
   "execution_count": 11,
   "id": "eed30687",
   "metadata": {},
   "outputs": [
    {
     "data": {
      "text/plain": [
       "'[REVIEW_START]바닷가 바로앞이라 너무좋아요.\\n객실도 깨끗하고, 샤워기 수압좋고 따뜻한물 잘 나오는것도 좋았어요~ 친구들이랑 왔다가 다들 만족하고 갑니다ㅎ[REVIEW_END]\\n[REVIEW_START]오션뷰라 진짜 좋았어요!! ㅎㅎㅎ\\n제 생일이라 남자친구하고 처음 오션뷰 예약해서 온거였는데 진짜 색달랐어요. 옆에 바다보면서 닭강정먹고.. 또 새벽에 바다 구경하고.. 진짜 잘 보내다 가요🥰[REVIEW_END]\\n[REVIEW_START]황금연휴에 방문했는데 오션뷰가 정말 예쁘더라고요👍\\n저는 2층에 머물렀는데, 창밖으로 보이는 바다가 너무 아름다웠어요\\n직원분들도 모두 친절하셔서 기분 좋게 머물다 갑니다👏\\n다음에도 꼭 다시 방문하고 싶어요![REVIEW_END]\\n[REVIEW_START]강원도를 좋아하는 여행자입니다.\\n강릉 스카이베이,속초 카시아,롯데 다이용해봤지만\\n진짜 이가격에 이정도 퀄리티숙소 너무너무 만족하며 이용했습니다\\n침구며 객실관리가 청결하게 잘 관리되어있고\\n침대도 푹신하니 좋았어요\\n단점이라고 하면 이층이라그런가 밤늦게까지 폭죽소리가 너무 시끄러웠고\\n비게가 저한테는 높아서 좀 불편했다는 정도..?\\n이가격에 오션뷰에 호텔급 침구에 너무 만족했습니다\\n재방문의사 100프로입니다[REVIEW_END]\\n[REVIEW_START]강문해변 바로 앞이라 위치도 좋고 버스 정류장도 바로 근처라 이동이 너무 편리해서 좋았습니다. 객실과 화장실도 매우 청결 했어요! 너무 쾌적하게 잘 지내다 갑니다[REVIEW_END]\\n[REVIEW_START]내부가 깔끔했어요 \\n전망도 해안뷰가 이뻤어요\\n담에 또 오고싶네요[REVIEW_END]\\n[REVIEW_START]바다소리들으며 편하게잤습니다 ㅎ\\n금연객실에ㆍ 회ㆍ대게 종류 반입이안되는데 그만큼관리하시고신경써서그런지 객실이너무청결해서 정말좋았습니다 \\n친절한응대도 👍 👍 👍 👍 👍 👍 👍 👍[REVIEW_END]\\n[REVIEW_START]오션뷰가 너무 예쁘고 방도 깨끗했습니다. 강릉 갈때마다 이용하는데 정말 좋아요.[REVIEW_END]\\n[REVIEW_START]크진 않지만 방음도 좋고 깨끗하면 주차하는곳도 넓어 편하게 있다 왔네요[REVIEW_END]\\n[REVIEW_START]뷰가 너무 좋았습니다 바다와 호수가 가까워서 편리했어요[REVIEW_END]\\n[REVIEW_START]사진은없지만 객실 응대와\\n카운터 매너가 상당히 좋습니다\\n호텔 모텔 많이 다녀와봣지만 손꼽는 매너입니다\\n굿굿 객실도 깔끔했어요\\n특히 사장님 응대가 너무 좋았어요\\n또 강릉가게되면 여기입니다 😃[REVIEW_END]\\n[REVIEW_START]청결 상태 매우 좋고 호텔 바로옆에는 편의점\\n바로 앞에는 경포해변 뷰가 엄청 멋졌어요\\n일요일엔 폭죽 터뜨리는 사람이 많아서 잘 때\\n조금 시끄러웠지만 넘어갈 수 있는 정도 ㅎㅎ\\n잘 놀고갑니다!![REVIEW_END]\\n[REVIEW_START]룸 컨디션 좋아요. 전망도 좋아요. 주차도 좋네요. 친절합니다.[REVIEW_END]\\n[REVIEW_START]스탠다드룸 작긴 하지만 깔끔하니 잘 지내다 가요:)\\n고층에 배정은 처음 받았는데 호수와 공원 모습이 예뻤어요[REVIEW_END]\\n[REVIEW_START]숙소 뷰가 너무 예쁘고 바다 와 식당들이 다 가까이에 있어서 좋았습니다 잘 자고 좋은 추억 남기고 갑니다![REVIEW_END]\\n[REVIEW_START]친절한 24시간 데스크와 깔끔한 오션뷰, 깨끗한 객실 내부를 갖추고 있습니다. 다음에도 이용하고 싶은 숙소입니다.\\n\\n다만 아쉬운 점은 tv 자체의 문제인 건지 넷플릭스 개인계정 사용을 하더라도 넷플릭스가 멈춰 사용이 불가능 했습니다. 그 외의 것들은 모두 만족스럽게 이용하고 갑니다.[REVIEW_END]\\n[REVIEW_START]경포해변 바로 코 앞이고 직원분도 친절하시고 깨끗해서 좋아요!![REVIEW_END]\\n[REVIEW_START]테라스도 있고 밑에서 담배냄새 올라오는거빼곤 다 좋았습니다![REVIEW_END]\\n[REVIEW_START]주차도 편하고 바로 앞에 바다도 보이고\\n진짜 바다 30초 거리에요!\\n바로 옆에 식당들도 많고 편의점도 가깝고 좋아요\\n지난주에 여행왔다 너무 좋아서\\n엄마랑 또 여행와서 여기 이용햤는데\\n강릉오면 여기만 이용하게 될 거 같아요 \\n룸 컨디션도 너무 좋고 밤에 불꽃놀이 하시는 분들 \\n있긴하지만 이중창이라 시끄럽게 들리지 않아요[REVIEW_END]\\n[REVIEW_START]강릉갈때마다 여기로 예약합니다 숙소에서 보는 호수뷰도 좋고 바로앞에 경포대라서 바다도 좋고 깨끗하고 친절하고 강추![REVIEW_END]\\n[REVIEW_START]테라스가 있어서 바깥 구경하기 좋고 조용하고 깨끗해요\\n\\n주변에 먹을곳도 있고 다음에 재방문 의사 있어요[REVIEW_END]\\n[REVIEW_START]바다 바로 앞이라서 산책하기도 좋고 주변에 밥먹을곳도 있어서 접근성도 좋아요[REVIEW_END]\\n[REVIEW_START]깨끗하고 좋아요 \\n바로 앞에 바다도 있고 주변에 식당이나\\n편의시설이 다 가까워서 좋았아요[REVIEW_END]\\n[REVIEW_START]결혼기념일 맞아 급하게 떠나며 예약했는데...청소청결 너~~무~~깨끗하고 내집보다 깨끗하고 따뜻했고 너무 잘 쉬다 왔어요 늦은시간 도착했는데도 친절히 잘 설명해주셨고 따뜻한물 잘 나오고 전망도\\n탁트여서 바다가 한눈에 보이는게 집에 오기 싫더라구요 담에도 꼭 이용할게요 힐링그자체였습니다~~^^[REVIEW_END]\\n[REVIEW_START]경포대 오션뷰 정말 예뻐요ㅎㅎ 굳이 해변 안나가도 방에서 바다 편하게 볼 수 있어요! 사장님 친절하시구요, 무엇보다 침구류가 정말 좋아요ㅎㅎ 뽀송뽀송한 린넨향이 아직도 생각나요[REVIEW_END]\\n[REVIEW_START]가족과 함께 하룻밤 편안하게 보냈어요.\\n직원분이 친절하게 맞이해 주었고, 주차장이 넓어서 편안하게 주차를 했어요.\\n침대와 침대이불, 화징실 등 매우 청결했어요.\\n푹신한 침대에서 편히 잤어요.\\n바로 바다가 있어서 밤바다를 보고 일출도 보고..\\n행복한 시간이었습니다~🙂[REVIEW_END]\\n[REVIEW_START]무조건 강추 입니다... 다른말이 필요 없어요 \\n진짜 휴식이 뭔지를 보여준 듯한 숙소였어욤[REVIEW_END]\\n[REVIEW_START]5층배정받았는데 뷰가 엄청이쁘고 침구류에 예민한데 역시 후기들대로 깔끔하고좋습니다. 그리고 직원분들도 매우친절하시구요, 재방문의사있습니다.[REVIEW_END]\\n[REVIEW_START]관리를 아주 잘 하시는 호텔 같아요\\n깨끗하고 컨디션이 흠잡을 곳이 없더라구요\\n객실도 조용하고 화장실까지 너무 깔끔하고 향도 좋아서 대만족 입니다. 위치도 매우좋고 창밖으로 보이는 뷰도 매우 좋아요. 재방문의사 100% 있어요~[REVIEW_END]\\n[REVIEW_START]저층이다보니 나무가 많이 보이긴해도 사이사이바다가 살짝보여요~\\n3층이상이여야 탁트인바다가보일듯\\n객실 너무청결하고 좋음\\n침구와욕실 모두 깔끔\\n깔끔떠는 중딩딸 대만족~~\\n아주즐거운 여행에 플러스를 주는 숙소였어요^^[REVIEW_END]\\n[REVIEW_START]강원도에 처음 가시는 엄마 모시고 여행 다녀왔는데 객실도 깨끗하고 따듯하고 너무 친절하셔서 여행 내내 행복하게 잘 지내다 왔습니다! 다음에 엄마랑 꼭 또 같이 갈게요🍀♥️[REVIEW_END]\\n[REVIEW_START]친구만나서 집근처에서 점심먹다가 강릉 바람쐬러 가? 진짜 가?? 하다가 정말로 뜬금없이 강릉 출발하면서 오후늦게 급하게 잡은 숙소인데 완전 만족했습니다.\\n\\n체크인 시 프론트 직원분이 친절하게 안내해주시고 객실복도에서 은은하게 퍼지는 디퓨져? 향도 좋았고 무엇보다 2층인데도 호텔 오션뷰는 완전 좋았고 객실 상태도 깨끗하고 침구류도 깨끗하고 포근해서 완전 좋았어요. 잘 쉬고 다음날 물회로 마무리 하고 갑니다~[REVIEW_END]\\n[REVIEW_START]결혼기념일 여행으로 강릉을  계획하고 예약한 호텔 마레  객실컨디션이 생각했던것보다 너무 좋더라구요  욕실 수전에  물자국조차도 없고 침구도 너무 보송보송 깨끗했어요\\n룸에 들어서자마자 바다가 보이고    해변이 바로 코앞이고 호텔뒤쪽으론 경포호수가 보이고 정말 완벽한 위치더라구요\\n옆쪽으론 식당과 횟집, 카페가 많아 식사하기도 좋고, 소개해주신 식당에서  맛있는식사도 하고\\n아침에 남편과 해변산책하기도 너무 좋았네요\\n또 방문하고 싶은 그런 편안하고 멋진 곳이네요~~[REVIEW_END]\\n[REVIEW_START]4층에서 바라보는 바다 뷰가 최고이며 숙소 관리도 잘되어 깨끗합니다[REVIEW_END]\\n[REVIEW_START]뷰가 정말 예뻤던 숙소였어요~ 사진은 3층입니다.\\n내부는 화장실까지 깨끗했고 침구도 좋았습니다.\\n티비로 유튜브도 보고 벽간 소음없이 잘 잤습니다.[REVIEW_END]\\n[REVIEW_START]숙소 고를때 오션뷰를 중요하게 생각했는데 바다가 엄청 잘보이고 좋았어요 숙소도 전반적으로 깨끗하고 좋았습니다[REVIEW_END]\\n[REVIEW_START]숙소도 상세 이미지보다 크고 사장님도 친절하시고 사장님께서 맛있는 횟집도 추천해주십니다~~~~[REVIEW_END]\\n[REVIEW_START]객실도 너무너무 깔끔했고 사장님도 엄청 친절했어요!!\\n\\n그리고 어메니티도 싸구려 하나 없이 다 좋더라구요!\\n원래 어메니티 폼클렌징 쓰면 얼굴이 너무 당기고 뾰루지가 꼭 났었는데 여기는 세수 직후에 촉촉하기도 했고 오히려 뾰루지가 하나 없어졌어요ㅋㅋㅋㅋ 이건 사바사라서 개인의견입니당!\\n아 그리고 바디워시가 달달한 망고향인데 진짜 코박죽 계속하고 있었는데 바디워시 제품명 물어볼껄 그랬어요.. 향기 넘좋아요,,\\n\\n객실간 소음도 안들리고 넷플릭스도 잘 되고 뷰도 예뻤어요!\\n정말 2박3일간 잘 쉬었습니다!!\\n다음에 또 올게요!![REVIEW_END]\\n[REVIEW_START]경포해변 바로 앞이라 진짜 너무 좋았고\\n숙소가 너무 청결해서 앞으로는 경포대 오면\\n여기만 이용할 거 같아요![REVIEW_END]\\n[REVIEW_START]경포대 해변이 바로 앞이여서 산책하기 좋았고\\n객실이 정말 깨끗했어요. 5성급 호텔처럼 깔끔하고 침대도 \\n너무편해서 좋았습니다.  화장실 역시 👍 \\n샴푸등 칫솔 스킨 로션 폼 면도기 믹스커피 아메리카노  ~~~등\\n준비가 다 되어 있어요.😍  \\n퇴실때 보니 다른방 청소하시는 모습에 한번더 반했답니다.\\n강릉오면 또 올께요.~~^^[REVIEW_END]\\n[REVIEW_START]친구들과 강릉 여행을 위해 예약했는데 숙소가 너무 깔끔하고 좋았습니다! 다음에 강릉에 오게 된다면 다시 올 것 같아요.[REVIEW_END]\\n[REVIEW_START]일단 뷰가 .. 진짜 너무 좋습니다 \\n오션뷰 디럭스 방으로 하셔야지 아마 저런 뷰 나오실거에요 \\n근처에 먹을곳이 다 가까워서 좋았습니다\\n또 오고 싶어요 😊\\n방이 진짜 깔끔하더라구요 청결도는 100점인듯[REVIEW_END]\\n[REVIEW_START]여기는\\n진짜 최곱니다… 정말 강릉 올 때마다 방문하고 싶을 정도로 너무 좋은 숙소였어요!! 침구도 깨끗하고 포근해서 잠도 잘 왔구요. 어메니티도 정말 필요한 것들만 있어서 좋았어요. 특히 샤워타월 있는게 정말 좋았습니당 ㅎㅎ 저희는\\n오션뷰 방 선택했는데 진짜 뷰가 작살납니다… 너무 예뻐서 하루종일 바다만 봤어요!!ㅋㅋㅋ 다음에 강릉 오면 또 방문하겠습니다 ㅎㅎ[REVIEW_END]\\n[REVIEW_START]객실과 객실 사이 소음이 전혀 들리지 않고 온수도 잘 나오며 해변가 바다 전망이 좋았어요[REVIEW_END]\\n[REVIEW_START]직원분들 정말 친절하시고 오션뷰였는데 기가 막혔음.\\n매년 방문 예정임. 강추임.[REVIEW_END]\\n[REVIEW_START]전체적으로 관리가 잘된 느낌이에요 완전 깔끔합니다!!\\n건물 앞엔 경포바다가, 건물 뒤엔 경포호수가..\\n뷰도 너무 좋고 뜨거운물도 잘 나옵니당ㅎㅎㅎ[REVIEW_END]\\n[REVIEW_START]돈을 더 투자해서 오션뷰를 선택하길 잘한 것 같아요! \\n겨울이라 추운데 밖에 나가지 않아도 되고, 아침에 눈을 뜨자마자 바다와 수평선을 볼 수 있어요 등대도 하나 있어서 사진도 잘 나오더라구요👍\\n\\n그리고 정말정말 깨끗해요.. 청결에 신경을 많이 쓰시는 것 같습니다! 연박청소도 해주셨는데 처음 그대로 깨끗이 청소해주시고 물, 어메니티, 수건 등 다시 채워주셔서 너무 좋았습니다😆\\n\\n아쉬운 점은 회를 반입해서 먹을 수 없는 것이였어요.. 하지만 그만큼 정말 관리를 열심히 하셔서 너무 깨끗해서 괜찮았습니다!\\n\\n직원분들도 조곤조곤 친절하시고, 뷰도 좋고, 청결한 숙소라서 다시 방문하고 싶은 숙소였습니다! 남자친구도 너무 잘 찾았다고 좋아하더라구요! 잘 묵다 갑니다🥰[REVIEW_END]\\n[REVIEW_START]경포 바다가 바로 앞에 있어 전망이 좋고 객실도 깔끔하니 다음에 또 오고 싶네요~ 잘 쉬다 갑니다^^[REVIEW_END]\\n[REVIEW_START]경포 바다가 바로 앞에 있어 전망이 좋고 객실도 깔끔하니 다음에 또 오고 싶네요~ 잘 쉬다 갑니다^^[REVIEW_END]\\n[REVIEW_START]방 진짜 깨끗했고 어매니티도 왠만한건 다 있어서 편했어요! 비치되어있는 바디워시 냄새가 되게 좋더라구요 망고향인가 방도 깨끗했고 경포호가 보여서 좋았습니다! 또 강릉에 가게된다면 재방문 의향 있습니다😊[REVIEW_END]'"
      ]
     },
     "execution_count": 11,
     "metadata": {},
     "output_type": "execute_result"
    }
   ],
   "source": [
    "reviews_good"
   ]
  },
  {
   "cell_type": "code",
   "execution_count": null,
   "id": "c3c4c1ba",
   "metadata": {},
   "outputs": [],
   "source": [
    "summary_good= summarize(reviews_good, prompt)\n",
    "# summary_bad= summarize(reviews_bad, prompt)"
   ]
  },
  {
   "cell_type": "code",
   "execution_count": 10,
   "id": "91c24f11",
   "metadata": {},
   "outputs": [
    {
     "data": {
      "text/plain": [
       "'바닷가에 위치한 숙소로, 깨끗하고 쾌적한 객실입니다. 샤워기 수압이 좋고 따뜻한 물이 잘 나오는 것도 좋은 포인트입니다. 친구들과 함께 머물기에 만족스러운 곳입니다.\\n오션뷰가 아름다운 숙소로, 생일을 즐기기에 좋은 곳입니다. 바다를 바라보며 특별한 시간을 보낼 수 있어요. 직원분들의 친절한 응대와 아름다운 바다 전망이 인상적입니다.재방문 의사가 100%입니다.\\n황금연휴에 머물렀던 숙소는 오션뷰가 아름다웠고, 2층에서 바라보는 바다 풍경이 아름다웠습니다. 친절한 직원분들과 청결한 객실로 기분 좋게 머물었습니다. 다음에도 꼭 다시 방문하고 싶은 곳입니다.'"
      ]
     },
     "execution_count": 10,
     "metadata": {},
     "output_type": "execute_result"
    }
   ],
   "source": [
    "summary_good"
   ]
  },
  {
   "cell_type": "markdown",
   "id": "c399bb3a",
   "metadata": {},
   "source": [
    "# 모든 리뷰 요약 데이터 일괄 처리\n",
    "- 전처리, 요약하기, df 만들기, mysql에 저장"
   ]
  },
  {
   "cell_type": "code",
   "execution_count": null,
   "id": "5748c3c7",
   "metadata": {},
   "outputs": [],
   "source": [
    "# 리뷰 데이터 전처리\n",
    "MAPPING = {\n",
    "    1: './res/1.gangneung_mare.json',\n",
    "    2: './res/2.insadong_ninetree.json',\n",
    "    3: './res/3.kyongpo_the_hongc.json',\n",
    "    # 4: './res/4.hongcheon_vivaldi.json'\n",
    "}\n"
   ]
  },
  {
   "cell_type": "markdown",
   "id": "7469a715",
   "metadata": {},
   "source": [
    "# 리뷰 요약결과 DB에 저장한 사람은 화면 캡쳐해서 디스코드 랜덤에 올리기"
   ]
  },
  {
   "cell_type": "code",
   "execution_count": 18,
   "id": "77a75804",
   "metadata": {},
   "outputs": [
    {
     "name": "stdout",
     "output_type": "stream",
     "text": [
      "   accommodation_id                                       summary_good  \\\n",
      "0                 1  바닷가에 위치한 숙소로, 깨끗하고 쾌적한 객실입니다. 오션뷰를 즐길 수 있는 곳으로...   \n",
      "\n",
      "                                         summary_bad        date  \n",
      "0  숙소는 깨끗하고 주차장이 넓어 편리합니다. 화장실 배수가 잘 안되고 샤워하면 역류되...  2025-06-05  \n",
      "SQLAlchemy를 통해 1개의 리뷰가 성공적으로 저장되었습니다.\n",
      "./res/1.gangneung_mare.json 숙소의 리뷰 요약이 완료되었습니다.\n",
      "   accommodation_id                                       summary_good  \\\n",
      "0                 2  깔끔하고 생각보다 넓어서 더 쾌적한 숙소입니다. 근처에 다른 볼거리가 많아서 스테이...   \n",
      "\n",
      "                                         summary_bad        date  \n",
      "0  컨디션 양호하고 직원분들이 친절하며, 방음이 조금 아쉬운 패밀리객실입니다. 아이들이...  2025-06-05  \n",
      "SQLAlchemy를 통해 1개의 리뷰가 성공적으로 저장되었습니다.\n",
      "./res/2.insadong_ninetree.json 숙소의 리뷰 요약이 완료되었습니다.\n",
      "   accommodation_id                                       summary_good  \\\n",
      "0                 3  강릉 여행길에 들렀는데 아주 예약을 잘한 숙소였습니다. 주인의 품격이 느껴지고 조용...   \n",
      "\n",
      "                                         summary_bad        date  \n",
      "0  공사로 인해 불편함을 느꼈던 숙소입니다. 예약할 때부터 공사 안내가 필요하다는 의견...  2025-06-05  \n",
      "SQLAlchemy를 통해 1개의 리뷰가 성공적으로 저장되었습니다.\n",
      "./res/3.kyongpo_the_hongc.json 숙소의 리뷰 요약이 완료되었습니다.\n"
     ]
    }
   ],
   "source": [
    "import os\n",
    "import pandas as pd\n",
    "from summary_modules import preprocess_reviews, summarize, load_prompt\n",
    "\n",
    "# 베스트 프롬프트 로딩\n",
    "promt_file = \"res/prompt_1shotv1.pickle\"\n",
    "prompt = load_prompt(promt_file)\n",
    "\n",
    "# 리뷰 데이터 전처리\n",
    "MAPPING = {\n",
    "    1: './res/1.gangneung_mare.json',\n",
    "    2: './res/2.insadong_ninetree.json',\n",
    "    3: './res/3.kyongpo_the_hongc.json',\n",
    "    # 4: './res/4.hongcheon_vivaldi.json'\n",
    "}\n",
    "table_name='review_summary'\n",
    "\n",
    "# 리뷰 전처리\n",
    "for id, path in MAPPING.items():\n",
    "    reviews_good, reviews_bad = preprocess_reviews(path)\n",
    "\n",
    "    if reviews_good:\n",
    "        summary_good = summarize(reviews_good, prompt)\n",
    "        # print(summary_good)\n",
    "    else:\n",
    "        summary_good = \"분석할 높은 평점 리뷰가 없습니다.\"\n",
    "    # 나쁜 리뷰 요약\n",
    "    if reviews_bad:\n",
    "        summary_bad = summarize(reviews_bad, prompt)\n",
    "        # print(summary_bad)\n",
    "    else:\n",
    "        summary_bad = \"분석할 낮은 평점 리뷰가 없습니다.\"\n",
    "\n",
    "    # 처리결과 데이터 프레임으로 만들어서 저장하기\n",
    "    df = pd.DataFrame({\n",
    "        'accommodation_id': [id],\n",
    "        'summary_good': [summary_good],\n",
    "        'summary_bad': [summary_bad],\n",
    "        'date': [pd.Timestamp.now().strftime('%Y-%m-%d')]\n",
    "    })\n",
    "    print(df)\n",
    "\n",
    "    # # MySQL에 저장    \n",
    "    save_to_db(df, table_name)\n",
    "    print(f\"{path} 숙소의 리뷰 요약이 완료되었습니다.\")"
   ]
  },
  {
   "cell_type": "code",
   "execution_count": null,
   "id": "06fc80d5",
   "metadata": {},
   "outputs": [],
   "source": []
  }
 ],
 "metadata": {
  "kernelspec": {
   "display_name": "llm_env",
   "language": "python",
   "name": "python3"
  },
  "language_info": {
   "codemirror_mode": {
    "name": "ipython",
    "version": 3
   },
   "file_extension": ".py",
   "mimetype": "text/x-python",
   "name": "python",
   "nbconvert_exporter": "python",
   "pygments_lexer": "ipython3",
   "version": "3.12.7"
  }
 },
 "nbformat": 4,
 "nbformat_minor": 5
}
